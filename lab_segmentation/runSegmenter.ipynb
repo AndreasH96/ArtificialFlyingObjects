{
 "cells": [
  {
   "cell_type": "markdown",
   "metadata": {},
   "source": [
    "<h1 style=\"font-size:40px;\"><center>Exercise III:<br> Image Segmentation using CNNs\n",
    "</center></h1>\n",
    "\n",
    "## Short summary\n",
    "In this exercise, we will design a CNN-based **encoder-decoder architecture** to segment rgb images. Image segmentation refers to dividing the image into semantically meaningful regions. For instance, representing each object in the scene with a unique color. The current folder has **three files**: \n",
    "- **configSegmenter.py:** this involves definitions of all parameters and data paths\n",
    "- **utilsSegmenter.py:** includes utility functions required to grab and visualize data \n",
    "- **runSegmenter.ipynb:** contains the script to design, train and test the network \n",
    "\n",
    "Make sure that before running this script, you created an environment and **installed all required libraries** such \n",
    "as keras. The very same environment used in Exercise II can be used here as well.\n",
    "\n",
    "## The data\n",
    "There exists also a subfolder called **data** which contains the traning, validation, and testing data each has both RGB input images together with the corresponding ground truth segmentation images.\n",
    "\n",
    "\n",
    "## The exercises\n",
    "As for the previous lab all exercises are found below.\n",
    "\n",
    "\n",
    "## The different 'Cells'\n",
    "This notebook contains several cells with python code, together with the markdown cells (like this one) with only text. Each of the cells with python code has a \"header\" markdown cell with information about the code. The table below provides a short overview of the code cells. \n",
    "\n",
    "| #  |  CellName | CellType | Comment |\n",
    "| :--- | :-------- | :-------- | :------- |\n",
    "| 1 | Init | Needed | Sets up the environment|\n",
    "| 2 | Ex | Exercise 1| A class definition of a CNN model  |\n",
    "| 3 | Loading | Needed | Loading parameters and initializing the model |\n",
    "| 4 | Stats | Needed | Show data distribution |\n",
    "| 5 | Data | Needed | Data augementation |\n",
    "| 6 | Data | Needed | Generating the data batches |\n",
    "| 7 | Debug | Needed | Debugging the data |\n",
    "| 8 | Device | Needed | Selecting CPU/GPU |\n",
    "| 9 | Optimization | Exercise 2 | Selecting an optimization method |\n",
    "| 10 | Training | Exercise 2 | Training the model   |\n",
    "| 11 | Testing | Exercise 2| Testing the  method   | \n",
    "| 13 | Plotting | Information  | View some of test samples |\n",
    "| 13 | Saving | Information  | Saving the model|\n",
    "\n",
    "\n",
    "In order for you to start with the exercise you need to run all cells. It is important that you do this in the correct order, starting from the top and work you way down the cells. Later when you have started to work with the notebook it may be easier to use the command \"Run All\" found in the \"Cell\" dropdown menu.\n",
    "\n",
    "## Writing the report\n",
    "First the report should be written within this notebook. We have prepared the last cell in this notebook for you where you should write the report. The report should contain 4 parts:\n",
    "\n",
    "* Name:\n",
    "* Introduction: A **few** sentences where you give a small introduction of what you have done in the lab.\n",
    "* Answers to questions: For each of the questions provide an answer. It can be short answers or a longer ones depending on the nature of the questions, but try to be effective in your writing.\n",
    "* Conclusion: Summarize your findings in a few sentences.\n",
    "  "
   ]
  },
  {
   "cell_type": "markdown",
   "metadata": {},
   "source": [
    "1) We first start with importing all required modules"
   ]
  },
  {
   "cell_type": "code",
   "execution_count": 220,
   "metadata": {},
   "outputs": [
    {
     "name": "stdout",
     "output_type": "stream",
     "text": [
      "creating network model using gpu 0\n"
     ]
    }
   ],
   "source": [
    "from tensorflow.compat.v1 import ConfigProto\n",
    "import os\n",
    "from configSegmenter import *\n",
    "\n",
    "##etting GPUS before importing tensorflow to make sure it loads on the right one\n",
    "cfg = flying_objects_config()\n",
    "if cfg.GPU >=0:\n",
    "    print(\"creating network model using gpu \" + str(cfg.GPU))\n",
    "    os.environ['CUDA_VISIBLE_DEVICES'] = str(cfg.GPU)\n",
    "elif cfg.GPU >=-1:\n",
    "    print(\"creating network model using cpu \")\n",
    "    os.environ[\"CUDA_DEVICE_ORDER\"] = \"PCI_BUS_ID\"   # see issue #152\n",
    "    os.environ[\"CUDA_VISIBLE_DEVICES\"] = \"\"\n",
    "\n",
    "from tensorflow.compat.v1 import InteractiveSession\n",
    "config = ConfigProto()\n",
    "config.gpu_options.allow_growth = True\n",
    "session = InteractiveSession(config=config)\n",
    "\n",
    "\n",
    "import tensorflow as tf\n",
    "from tensorflow import keras\n",
    "from utilsSegmenter import *\n",
    "from sklearn.metrics import confusion_matrix\n",
    "import seaborn as sns\n",
    "from datetime import datetime\n",
    "import os\n",
    "import pprint\n",
    "\n",
    "\n",
    "# import the necessary packages\n",
    "from keras.models import Sequential\n",
    "from keras.layers.normalization import BatchNormalization\n",
    "from keras.layers.convolutional import Conv2D, Conv1D, Convolution2D, Deconvolution2D, Cropping2D, UpSampling2D\n",
    "from keras.layers import Input,  Conv2DTranspose\n",
    "from keras.layers.convolutional import MaxPooling2D\n",
    "from keras.layers.core import Activation\n",
    "from keras.layers import Concatenate, concatenate, Reshape\n",
    "from keras.layers.core import Flatten\n",
    "from keras.layers.core import Dropout\n",
    "from keras.layers.core import Dense\n",
    "from keras.preprocessing.image import ImageDataGenerator\n",
    "from keras.optimizers import Adam\n",
    "from keras.models import Model\n",
    "from keras.callbacks import TensorBoard\n",
    "from keras.applications.vgg16 import VGG16, preprocess_input, decode_predictions\n",
    "from keras.layers import Input, merge\n",
    "from keras.regularizers import l2\n",
    "from keras.layers import Input, merge, Convolution2D, MaxPooling2D, UpSampling2D, Reshape, core, Dropout\n"
   ]
  },
  {
   "cell_type": "markdown",
   "metadata": {},
   "source": [
    "2) Here, we have the network model class definition. In this class, the most important function is the one called **create_model()**. As defined in the exercises section, your task is to update the network architecture defined in this function such that the network will return the highest accuracy for the given training, validation, and testing data."
   ]
  },
  {
   "cell_type": "code",
   "execution_count": 221,
   "metadata": {},
   "outputs": [],
   "source": [
    " class SegmenterDNNModel():\n",
    "    def __init__(self, num_classes=10, batch_size=32, inputShape=(64,64,3), dropout_prob=0.25):\n",
    "        self.num_classes = num_classes\n",
    "        self.batch_size = batch_size\n",
    "        self.inputShape = inputShape\n",
    "        self.dropout_prob = dropout_prob\n",
    "\n",
    "    def conv2d_block(self, input_tensor, n_filters, kernel_size=3, batchnorm=True):\n",
    "        # first layer\n",
    "        x = Conv2D(filters=n_filters, kernel_size=(kernel_size, kernel_size), kernel_initializer=\"he_normal\",\n",
    "                   padding=\"same\")(input_tensor)\n",
    "        if batchnorm:\n",
    "            x = BatchNormalization()(x)\n",
    "        x = Activation(\"relu\")(x)\n",
    "        # second layer\n",
    "        x = Conv2D(filters=n_filters, kernel_size=(kernel_size, kernel_size), kernel_initializer=\"he_normal\",\n",
    "                   padding=\"same\")(x)\n",
    "        if batchnorm:\n",
    "            x = BatchNormalization()(x)\n",
    "        x = Activation(\"relu\")(x)\n",
    "        return x\n",
    "\n",
    "    def create_model(self):\n",
    "        \n",
    "        inputs = Input(shape=self.inputShape)\n",
    "        \n",
    "        activation_fun = 'relu'\n",
    "        down1 = Conv2D(16,(3,3),padding='same',activation=activation_fun, kernel_initializer=\"he_normal\")(inputs)\n",
    "        down1 = Conv2D(16,(3,3),padding='same',activation=activation_fun, kernel_initializer=\"he_normal\")(down1)\n",
    "        down1_pool = MaxPooling2D((2, 2), strides=(2, 2))(down1)\n",
    "        \n",
    "        down2 = Conv2D(32,(3,3),padding='same',activation=activation_fun, kernel_initializer=\"he_normal\")(down1_pool)\n",
    "        down2 = Conv2D(32,(3,3),padding='same',activation=activation_fun, kernel_initializer=\"he_normal\")(down2)\n",
    "        drop2 = Dropout(0.2)(down2)\n",
    "        down2_pool = MaxPooling2D((2, 2), strides=(2, 2))(drop2)\n",
    "        \n",
    "        down3 = Conv2D(64,(3,3),padding='same',activation=activation_fun, kernel_initializer=\"he_normal\")(down2_pool)\n",
    "        down3 = Conv2D(64,(3,3),padding='same',activation=activation_fun, kernel_initializer=\"he_normal\")(down3)\n",
    "        drop3 = Dropout(0.2)(down3)\n",
    "        up4_pool = UpSampling2D((2, 2))(drop3)\n",
    "        \n",
    "        up4 = Conv2D(32,(3,3),padding='same',activation=activation_fun, kernel_initializer=\"he_normal\")(up4_pool)\n",
    "        merge4 = concatenate([drop2,up4],axis=3)\n",
    "        up4 = Conv2D(32,(3,3),padding='same',activation=activation_fun, kernel_initializer=\"he_normal\")(merge4)\n",
    "        up4 = Conv2D(32,(3,3),padding='same',activation=activation_fun, kernel_initializer=\"he_normal\")(up4)\n",
    "        \n",
    "        up5_pool = UpSampling2D((2, 2))(up4)\n",
    "        up5 = Conv2D(16,(3,3),padding='same',activation=activation_fun, kernel_initializer=\"he_normal\")(up5_pool)\n",
    "        merge5 = concatenate([down1,up5],axis=3)\n",
    "        up5 = Conv2D(16,(3,3),padding='same',activation=activation_fun, kernel_initializer=\"he_normal\")(merge5)\n",
    "        up5 = Conv2D(16,(3,3),padding='same',activation=activation_fun, kernel_initializer=\"he_normal\")(up5)\n",
    "        \n",
    "\n",
    "        classify = Conv2D(self.num_classes, (1, 1), activation='sigmoid')(up5)\n",
    "\n",
    "        model = Model(inputs=inputs, outputs=classify)\n",
    "        model.summary()\n",
    "        return model \n",
    "      "
   ]
  },
  {
   "cell_type": "markdown",
   "metadata": {},
   "source": [
    "3) We import the network **hyperparameters** and build a simple cnn by calling the class introduced in the previous step. Please note that to change the hyperparameters, you just need to change the values in the file called **configClassifier.py.**. Do not forget to restart kernels. "
   ]
  },
  {
   "cell_type": "code",
   "execution_count": 222,
   "metadata": {},
   "outputs": [
    {
     "name": "stdout",
     "output_type": "stream",
     "text": [
      "Model: \"functional_39\"\n",
      "__________________________________________________________________________________________________\n",
      "Layer (type)                    Output Shape         Param #     Connected to                     \n",
      "==================================================================================================\n",
      "input_20 (InputLayer)           [(None, 128, 128, 3) 0                                            \n",
      "__________________________________________________________________________________________________\n",
      "conv2d_247 (Conv2D)             (None, 128, 128, 16) 448         input_20[0][0]                   \n",
      "__________________________________________________________________________________________________\n",
      "conv2d_248 (Conv2D)             (None, 128, 128, 16) 2320        conv2d_247[0][0]                 \n",
      "__________________________________________________________________________________________________\n",
      "max_pooling2d_38 (MaxPooling2D) (None, 64, 64, 16)   0           conv2d_248[0][0]                 \n",
      "__________________________________________________________________________________________________\n",
      "conv2d_249 (Conv2D)             (None, 64, 64, 32)   4640        max_pooling2d_38[0][0]           \n",
      "__________________________________________________________________________________________________\n",
      "conv2d_250 (Conv2D)             (None, 64, 64, 32)   9248        conv2d_249[0][0]                 \n",
      "__________________________________________________________________________________________________\n",
      "dropout_38 (Dropout)            (None, 64, 64, 32)   0           conv2d_250[0][0]                 \n",
      "__________________________________________________________________________________________________\n",
      "max_pooling2d_39 (MaxPooling2D) (None, 32, 32, 32)   0           dropout_38[0][0]                 \n",
      "__________________________________________________________________________________________________\n",
      "conv2d_251 (Conv2D)             (None, 32, 32, 64)   18496       max_pooling2d_39[0][0]           \n",
      "__________________________________________________________________________________________________\n",
      "conv2d_252 (Conv2D)             (None, 32, 32, 64)   36928       conv2d_251[0][0]                 \n",
      "__________________________________________________________________________________________________\n",
      "dropout_39 (Dropout)            (None, 32, 32, 64)   0           conv2d_252[0][0]                 \n",
      "__________________________________________________________________________________________________\n",
      "up_sampling2d_38 (UpSampling2D) (None, 64, 64, 64)   0           dropout_39[0][0]                 \n",
      "__________________________________________________________________________________________________\n",
      "conv2d_253 (Conv2D)             (None, 64, 64, 32)   18464       up_sampling2d_38[0][0]           \n",
      "__________________________________________________________________________________________________\n",
      "concatenate_38 (Concatenate)    (None, 64, 64, 64)   0           dropout_38[0][0]                 \n",
      "                                                                 conv2d_253[0][0]                 \n",
      "__________________________________________________________________________________________________\n",
      "conv2d_254 (Conv2D)             (None, 64, 64, 32)   18464       concatenate_38[0][0]             \n",
      "__________________________________________________________________________________________________\n",
      "conv2d_255 (Conv2D)             (None, 64, 64, 32)   9248        conv2d_254[0][0]                 \n",
      "__________________________________________________________________________________________________\n",
      "up_sampling2d_39 (UpSampling2D) (None, 128, 128, 32) 0           conv2d_255[0][0]                 \n",
      "__________________________________________________________________________________________________\n",
      "conv2d_256 (Conv2D)             (None, 128, 128, 16) 4624        up_sampling2d_39[0][0]           \n",
      "__________________________________________________________________________________________________\n",
      "concatenate_39 (Concatenate)    (None, 128, 128, 32) 0           conv2d_248[0][0]                 \n",
      "                                                                 conv2d_256[0][0]                 \n",
      "__________________________________________________________________________________________________\n",
      "conv2d_257 (Conv2D)             (None, 128, 128, 16) 4624        concatenate_39[0][0]             \n",
      "__________________________________________________________________________________________________\n",
      "conv2d_258 (Conv2D)             (None, 128, 128, 16) 2320        conv2d_257[0][0]                 \n",
      "__________________________________________________________________________________________________\n",
      "conv2d_259 (Conv2D)             (None, 128, 128, 4)  68          conv2d_258[0][0]                 \n",
      "==================================================================================================\n",
      "Total params: 129,892\n",
      "Trainable params: 129,892\n",
      "Non-trainable params: 0\n",
      "__________________________________________________________________________________________________\n"
     ]
    }
   ],
   "source": [
    "image_shape = (cfg.IMAGE_HEIGHT, cfg.IMAGE_WIDTH, cfg.IMAGE_CHANNEL)\n",
    "modelObj = SegmenterDNNModel(num_classes=cfg.NUM_CLASS, batch_size=cfg.BATCH_SIZE, inputShape=image_shape, dropout_prob=cfg.DROPOUT_PROB)\n",
    "model = modelObj.create_model()"
   ]
  },
  {
   "cell_type": "markdown",
   "metadata": {},
   "source": [
    "4) We call the utility function **show_statistics** to display the data distribution. This is just for debugging purpose."
   ]
  },
  {
   "cell_type": "code",
   "execution_count": 223,
   "metadata": {},
   "outputs": [
    {
     "name": "stdout",
     "output_type": "stream",
     "text": [
      "\n",
      "######################################################################\n",
      "##################### Training Data Statistics #####################\n",
      "######################################################################\n",
      "total image number \t 10817\n",
      "total class number \t 3\n",
      "class square \t 3488 images\n",
      "class triangle \t 3703 images\n",
      "class circular \t 3626 images\n",
      "######################################################################\n",
      "\n",
      "######################################################################\n",
      "##################### Validation Data Statistics #####################\n",
      "######################################################################\n",
      "total image number \t 2241\n",
      "total class number \t 3\n",
      "class circular \t 713 images\n",
      "class square \t 783 images\n",
      "class triangle \t 745 images\n",
      "######################################################################\n",
      "\n",
      "######################################################################\n",
      "##################### Testing Data Statistics #####################\n",
      "######################################################################\n",
      "total image number \t 2220\n",
      "total class number \t 3\n",
      "class circular \t 722 images\n",
      "class square \t 765 images\n",
      "class triangle \t 733 images\n",
      "######################################################################\n"
     ]
    }
   ],
   "source": [
    "#### show how the data looks like\n",
    "show_statistics(cfg.training_data_dir, fineGrained=cfg.fineGrained, title=\" Training Data Statistics \")\n",
    "show_statistics(cfg.validation_data_dir, fineGrained=cfg.fineGrained, title=\" Validation Data Statistics \")\n",
    "show_statistics(cfg.testing_data_dir, fineGrained=cfg.fineGrained, title=\" Testing Data Statistics \")"
   ]
  },
  {
   "cell_type": "markdown",
   "metadata": {},
   "source": [
    "5) We **augment** the data by flipping the image horizontally or vertically. As described in the exercises section below, one of your tasks is to update this data augmentation part in order to increase the network efficiency."
   ]
  },
  {
   "cell_type": "code",
   "execution_count": 224,
   "metadata": {},
   "outputs": [
    {
     "name": "stdout",
     "output_type": "stream",
     "text": [
      "Data is being augmented!\n"
     ]
    }
   ],
   "source": [
    "# setup data\n",
    "if cfg.DATA_AUGMENTATION:\n",
    "    print(\"Data is being augmented!\")\n",
    "    aug_parameters = ImageDataGenerator(\n",
    "        # zoom_range=0.2, # randomly zoom into images\n",
    "         #rotation_range=10,  # randomly rotate images in the range (degrees, 0 to 180)\n",
    "         #width_shift_range=0.1,  # randomly shift images horizontally (fraction of total width)\n",
    "         #height_shift_range=0.1,  # randomly shift images vertically (fraction of total height)\n",
    "        horizontal_flip=True,  # randomly flip images\n",
    "        vertical_flip=True)  # randomly flip images\n",
    "else:\n",
    "    print(\"Data will not be augmented!\")\n",
    "    aug_parameters = ImageDataGenerator(\n",
    "        horizontal_flip=False,  # randomly flip images\n",
    "        vertical_flip=False)  # randomly flip images"
   ]
  },
  {
   "cell_type": "markdown",
   "metadata": {},
   "source": [
    "6) We now create batch generators to get small batches from the entire dataset. There is no need to change these functions as they already return **normalized inputs as batches**."
   ]
  },
  {
   "cell_type": "code",
   "execution_count": 225,
   "metadata": {},
   "outputs": [
    {
     "name": "stdout",
     "output_type": "stream",
     "text": [
      "Data batch generators are created!\n"
     ]
    }
   ],
   "source": [
    "nbr_train_data = get_dataset_size(cfg.training_data_dir)\n",
    "nbr_valid_data = get_dataset_size(cfg.validation_data_dir)\n",
    "nbr_test_data = get_dataset_size(cfg.testing_data_dir)\n",
    "train_batch_generator = generate_segmentation_batches(cfg.training_data_dir, image_shape, cfg.BATCH_SIZE)\n",
    "valid_batch_generator = generate_segmentation_batches(cfg.validation_data_dir, image_shape, cfg.BATCH_SIZE)\n",
    "test_batch_generator = generate_segmentation_batches(cfg.testing_data_dir, image_shape, cfg.BATCH_SIZE)\n",
    "aug_train_batch_generator = generate_augmented_segmentation_batches(train_batch_generator, aug_parameters)\n",
    "aug_valid_batch_generator = generate_augmented_segmentation_batches(valid_batch_generator, aug_parameters)\n",
    "print(\"Data batch generators are created!\")"
   ]
  },
  {
   "cell_type": "markdown",
   "metadata": {},
   "source": [
    "7) We can visualize how the data looks like for debugging purpose"
   ]
  },
  {
   "cell_type": "code",
   "execution_count": 226,
   "metadata": {},
   "outputs": [
    {
     "name": "stdout",
     "output_type": "stream",
     "text": [
      "x (32, 128, 128, 3) float32 0.0 1.0\n",
      "y (32, 128, 128, 4) float32 0.0 1.0\n",
      "x (32, 128, 128, 3) float32 0.0 1.0\n",
      "y (32, 128, 128, 4) float32 0.0 1.0\n"
     ]
    },
    {
     "data": {
      "image/png": "[encoded data removed]",
      "text/plain": [
       "<Figure size 720x720 with 8 Axes>"
      ]
     },
     "metadata": {},
     "output_type": "display_data"
    },
    {
     "name": "stdout",
     "output_type": "stream",
     "text": [
      "{'BATCH_SIZE': 32,\n",
      " 'CLASSES': ['square', 'triangle', 'circular', 'background'],\n",
      " 'DATA_AUGMENTATION': True,\n",
      " 'DEBUG_MODE': True,\n",
      " 'DROPOUT_PROB': 0.5,\n",
      " 'GPU': 0,\n",
      " 'IMAGE_CHANNEL': 3,\n",
      " 'IMAGE_HEIGHT': 128,\n",
      " 'IMAGE_WIDTH': 128,\n",
      " 'LEARNING_RATE': 0.001,\n",
      " 'LR_DECAY_FACTOR': 0.1,\n",
      " 'NUM_CLASS': 4,\n",
      " 'NUM_EPOCHS': 1,\n",
      " 'PRINT_EVERY': 20,\n",
      " 'SAVE_EVERY': 1,\n",
      " 'fineGrained': False,\n",
      " 'testing_data_dir': '../data/FlyingObjectDataset_10K/testing',\n",
      " 'training_data_dir': '../data/FlyingObjectDataset_10K/training',\n",
      " 'validation_data_dir': '../data/FlyingObjectDataset_10K/validation'}\n"
     ]
    }
   ],
   "source": [
    "if cfg.DEBUG_MODE:\n",
    "    t_x, t_y = next(train_batch_generator)\n",
    "    print('x', t_x.shape, t_x.dtype, t_x.min(), t_x.max())\n",
    "    print('y', t_y.shape, t_y.dtype, t_y.min(), t_y.max())\n",
    "    a_x, a_y = next(aug_train_batch_generator)\n",
    "    print('x', a_x.shape, a_x.dtype, a_x.min(), a_x.max())\n",
    "    print('y', a_y.shape, a_y.dtype, a_y.min(), a_y.max())\n",
    "    plot_sample_data_with_groundtruth(a_x, a_y)\n",
    "    pprint.pprint (cfg)"
   ]
  },
  {
   "cell_type": "markdown",
   "metadata": {},
   "source": [
    "8) We select which processing unit to use, either CPU or GPU. In case of having multiple GPUs, we can still select which GPU to use."
   ]
  },
  {
   "cell_type": "markdown",
   "metadata": {},
   "source": [
    "9) We set the training configuration. As a part of the exercises, this function can also be updated to test different **optimization methods** such as **SGD, ADAM,** etc."
   ]
  },
  {
   "cell_type": "code",
   "execution_count": 227,
   "metadata": {},
   "outputs": [],
   "source": [
    "# Source : https://stackoverflow.com/questions/60507120/how-to-correctly-use-the-tensorflow-meaniou-metric\n",
    "class MyMeanIOU(tf.keras.metrics.MeanIoU):\n",
    "    def update_state(self, y_true, y_pred, sample_weight=None):\n",
    "        return super().update_state(tf.argmax(y_true, axis=-1), tf.argmax(y_pred, axis=-1), sample_weight)"
   ]
  },
  {
   "cell_type": "code",
   "execution_count": 228,
   "metadata": {
    "scrolled": false
   },
   "outputs": [],
   "source": [
    "from tensorflow_addons.losses import SigmoidFocalCrossEntropy\n",
    "gamma = 1.5\n",
    "miou = MyMeanIOU(num_classes =cfg.NUM_CLASS,name =\"MeanIoU\") #\n",
    "opt = tf.optimizers.Adam(cfg.LEARNING_RATE*1.5)\n",
    "model.compile(loss=SigmoidFocalCrossEntropy(gamma=gamma),\n",
    "              optimizer= opt, metrics=[miou,'accuracy']) "
   ]
  },
  {
   "cell_type": "markdown",
   "metadata": {},
   "source": [
    "10) We can now feed the training and validation data to the network. This will train the network for **some epochs**. Note that the epoch number is also predefined in the file called **configSegmenter.py.**"
   ]
  },
  {
   "cell_type": "code",
   "execution_count": 229,
   "metadata": {
    "scrolled": false
   },
   "outputs": [
    {
     "name": "stdout",
     "output_type": "stream",
     "text": [
      "Epoch 1/10\n",
      "338/338 [==============================] - 25s 75ms/step - loss: 0.0367 - MeanIoU: 0.5442 - accuracy: 0.9359 - val_loss: 0.0065 - val_MeanIoU: 0.9320 - val_accuracy: 0.9922\n",
      "Epoch 2/10\n",
      "338/338 [==============================] - 25s 74ms/step - loss: 0.0039 - MeanIoU: 0.9601 - accuracy: 0.9953 - val_loss: 0.0030 - val_MeanIoU: 0.9704 - val_accuracy: 0.9965\n",
      "Epoch 3/10\n",
      "338/338 [==============================] - 25s 74ms/step - loss: 0.0024 - MeanIoU: 0.9772 - accuracy: 0.9971 - val_loss: 0.0024 - val_MeanIoU: 0.9775 - val_accuracy: 0.9972\n",
      "Epoch 4/10\n",
      "338/338 [==============================] - 25s 75ms/step - loss: 0.0018 - MeanIoU: 0.9829 - accuracy: 0.9978 - val_loss: 0.0019 - val_MeanIoU: 0.9799 - val_accuracy: 0.9976\n",
      "Epoch 5/10\n",
      "338/338 [==============================] - 25s 75ms/step - loss: 0.0013 - MeanIoU: 0.9884 - accuracy: 0.9984 - val_loss: 0.0021 - val_MeanIoU: 0.9799 - val_accuracy: 0.9976\n",
      "Epoch 6/10\n",
      "338/338 [==============================] - 26s 76ms/step - loss: 0.0012 - MeanIoU: 0.9892 - accuracy: 0.9986 - val_loss: 0.0028 - val_MeanIoU: 0.9734 - val_accuracy: 0.9969\n",
      "Epoch 7/10\n",
      "338/338 [==============================] - 26s 76ms/step - loss: 0.0011 - MeanIoU: 0.9899 - accuracy: 0.9987 - val_loss: 0.0015 - val_MeanIoU: 0.9859 - val_accuracy: 0.9984\n",
      "Epoch 8/10\n",
      "338/338 [==============================] - 26s 76ms/step - loss: 7.6292e-04 - MeanIoU: 0.9936 - accuracy: 0.9991 - val_loss: 0.0013 - val_MeanIoU: 0.9878 - val_accuracy: 0.9986\n",
      "Epoch 9/10\n",
      "338/338 [==============================] - 26s 76ms/step - loss: 8.9317e-04 - MeanIoU: 0.9923 - accuracy: 0.9990 - val_loss: 0.0012 - val_MeanIoU: 0.9890 - val_accuracy: 0.9987\n",
      "Epoch 10/10\n",
      "338/338 [==============================] - 25s 75ms/step - loss: 6.1149e-04 - MeanIoU: 0.9949 - accuracy: 0.9993 - val_loss: 0.0010 - val_MeanIoU: 0.9898 - val_accuracy: 0.9988\n"
     ]
    }
   ],
   "source": [
    "history = model.fit_generator(generator = aug_train_batch_generator,\n",
    "          epochs=cfg.NUM_EPOCHS*10,\n",
    "          verbose=1,\n",
    "          steps_per_epoch=(nbr_train_data//cfg.BATCH_SIZE), # total batch number\n",
    "          validation_steps=(nbr_valid_data // cfg.BATCH_SIZE), # total batch number\n",
    "          validation_data=valid_batch_generator,\n",
    "          callbacks=[TensorBoard(log_dir=\"logs/{}_{}\".format(\"2_5\",cfg.BATCH_SIZE), write_graph=True, write_images=False,\n",
    "                                 histogram_freq=0)])"
   ]
  },
  {
   "cell_type": "markdown",
   "metadata": {},
   "source": [
    "11) We can test the model with the test data"
   ]
  },
  {
   "cell_type": "code",
   "execution_count": 230,
   "metadata": {},
   "outputs": [
    {
     "name": "stdout",
     "output_type": "stream",
     "text": [
      "69/69 [==============================] - 2s 29ms/step - loss: 5.1853e-04 - MeanIoU: 0.9956 - accuracy: 0.9994\n",
      "Test Loss:  0.0005 Test Mean IoU 0.9956 Test Accuracy:  0.9994\n"
     ]
    }
   ],
   "source": [
    "# testing model\n",
    "test_result = model.evaluate(test_batch_generator,\n",
    "                                       steps=(nbr_test_data//cfg.BATCH_SIZE))\n",
    "test_loss = round(test_result[0], 4)\n",
    "test_IoU = round(test_result[1], 4)\n",
    "test_acc = round(test_result[2],4)\n",
    "print(\"Test Loss: \", str(test_loss),\"Test Mean IoU\", str(test_IoU), \"Test Accuracy: \", str(test_acc))"
   ]
  },
  {
   "cell_type": "markdown",
   "metadata": {},
   "source": [
    "12) We can also show sample segmentation results"
   ]
  },
  {
   "cell_type": "code",
   "execution_count": 231,
   "metadata": {},
   "outputs": [
    {
     "data": {
      "image/png": "[encoded data removed]",
      "text/plain": [
       "<Figure size 720x720 with 24 Axes>"
      ]
     },
     "metadata": {},
     "output_type": "display_data"
    }
   ],
   "source": [
    "t_data, t_segments = next(test_batch_generator)\n",
    "pred_segments = model.predict(t_data, batch_size=cfg.BATCH_SIZE)\n",
    "plot_sample_segmentation_results(t_data, t_segments, pred_segments, test_acc)"
   ]
  },
  {
   "cell_type": "markdown",
   "metadata": {},
   "source": [
    "13) Finally, we can save the model"
   ]
  },
  {
   "cell_type": "code",
   "execution_count": 46,
   "metadata": {},
   "outputs": [],
   "source": [
    "# save the model\n",
    "model.save('./logs/model_epoch_{}.h5'.format(cfg.NUM_EPOCHS)) "
   ]
  },
  {
   "cell_type": "markdown",
   "metadata": {},
   "source": [
    "## EXERCISES"
   ]
  },
  {
   "cell_type": "markdown",
   "metadata": {},
   "source": [
    "Please do all exercises desribed below. Note that all your source code as well as the log folders must be provided as final results **before May 02, 2019.** \n",
    "\n",
    "\n",
    "#### Exercise 1)\n",
    "Update the network architecture given in the function **create_model** of the class SegmenterDNNModel. \n",
    "\n",
    "**Hint:** You can add more convolution, max pooling layers etc. Batch normalization and dropout are other options to be considered. You can also try applying different activation functions."
   ]
  },
  {
   "cell_type": "markdown",
   "metadata": {},
   "source": [
    "#### Exercise 2) \n",
    "Use different **optimization** (e.g. ADAM, SGD, etc) and **regularization** (e.g. batchnorm, dropout) methods to increase the network accuracy. Try adding more skip connections from early encoder layers to deeper decoder layers as well. "
   ]
  },
  {
   "cell_type": "markdown",
   "metadata": {},
   "source": [
    "#### Hint:\n",
    "All network resposes are stored in a **log folder** which is automatically created. To visualize these responses, we can use the tensorboard as follows:\n",
    "- First make sure that there is a new folder created with **a date and time stamp** under folder **logs**\n",
    "- Next, open a terminal and type \n",
    "    > tensorboard --logdir=./logs\n",
    "- Finally, open a web browser and type \n",
    "    > http://localhost:6006\n",
    "- You can have an overview of all accuracies on the tensorboard. For more information about tensorboard, please see https://www.tensorflow.org/guide/summaries_and_tensorboard"
   ]
  },
  {
   "cell_type": "markdown",
   "metadata": {},
   "source": [
    "# The report!\n",
    "\n",
    "\n",
    "### Name \n",
    "Andreas Häggström \n",
    "\n",
    "### Introduction\n",
    "\n",
    "### Answers to questions\n",
    "\n",
    "#### Q1) Update the network architecture given in the function **create_model** of the class SegmenterDNNModel. \n",
    "  Based on the U-net architecture from ´´*U-Net: Convolutional Networks for Biomedical\n",
    "Image Segmentation*´´ byr Ronneberger et al. (2015, https://arxiv.org/pdf/1505.04597.pdf) and a repository on github (https://github.com/zhixuhao/unet/blob/master/model.py) I constructed the following model. It is a simplified version of the U-net architecture. This architecture was developed to require less training images while still resulting in more precise segmentations. \n",
    "\n",
    "This version of it uses 3x3 Conv2D kernels with the relu activation. These kernels follow a channel structure of  16->32->64->32->16 in accordance with U-net. This model also uses dropout as a regularization factor.\n",
    "    \n",
    "            activation_fun = 'relu'\n",
    "            down1 = Conv2D(16,(3,3),padding='same',activation=activation_fun)(inputs)\n",
    "            down1 = Conv2D(16,(3,3),padding='same',activation=activation_fun)(down1)\n",
    "            down1_pool = MaxPooling2D((2, 2), strides=(2, 2))(down1)\n",
    "\n",
    "            down2 = Conv2D(32,(3,3),padding='same',activation=activation_fun)(down1_pool)\n",
    "            down2 = Conv2D(32,(3,3),padding='same',activation=activation_fun)(down2)\n",
    "            drop2 = Dropout(0.2)(down2)\n",
    "            down2_pool = MaxPooling2D((2, 2), strides=(2, 2))(drop2)\n",
    "\n",
    "            down3 = Conv2D(64,(3,3),padding='same',activation=activation_fun)(down2_pool)\n",
    "            down3 = Conv2D(64,(3,3),padding='same',activation=activation_fun)(down3)\n",
    "            drop3 = Dropout(0.2)(down3)\n",
    "            up4_pool = UpSampling2D((2, 2))(drop3)\n",
    "\n",
    "            up4 = Conv2D(32,(3,3),padding='same',activation=activation_fun)(up4_pool)\n",
    "            merge4 = concatenate([drop2,up4],axis=3)\n",
    "            up4 = Conv2D(32,(3,3),padding='same',activation=activation_fun)(merge4)\n",
    "            up4 = Conv2D(32,(3,3),padding='same',activation=activation_fun)(up4)\n",
    "\n",
    "            up5_pool = UpSampling2D((2, 2))(up4)\n",
    "            up5 = Conv2D(16,(3,3),padding='same',activation=activation_fun)(up5_pool)\n",
    "            merge5 = concatenate([down1,up5],axis=3)\n",
    "            up5 = Conv2D(16,(3,3),padding='same',activation=activation_fun)(merge5)\n",
    "            up5 = Conv2D(16,(3,3),padding='same',activation=activation_fun)(up5)\n",
    "\n",
    "\n",
    "            classify = Conv2D(self.num_classes, (1, 1), activation='sigmoid')(up5)\n",
    "\n",
    "            model = Model(inputs=inputs, outputs=classify)\n",
    "I also added the metric Mean Intersection over Union (MeanIoU https://www.tensorflow.org/api_docs/python/tf/keras/metrics/MeanIoU) to the model. This affected the performance slightly but all models hereafter will be trained with the MeanIoU and accuracy as metrics. In the table below the results for both the initial model and the U-net model can be seen. The most notable difference is that the difference in the accuracy is 6.2% while the difference in MeanIoU is 44.78%. This is probably due to the initial model being able to classify the different classes better than it could form the segmentation areas.\n",
    "\n",
    "| Type          | Loss          | Accuracy  | MeanIoU  |\n",
    "| ------------- |:-------------:| ---------:| --------:|\n",
    "| Initial model       | 0.1287        |    0.9318 | 0.4999   |\n",
    "| U-net         | 0.0187        |    0.9938 | 0.9477   |\n",
    "\n",
    "This can be explained further by using the figure below borrowed from the blog of Jeremy Jordan (Accessed 08-12-2020 https://www.jeremyjordan.me/evaluating-image-segmentation-models/). If the model in this case classifies yellow as 'person' then this model could have a high accuracy but low IoU. It can classify that there is a person there but can't distinguish the boundaries of this person. The main improvement of the U-net in this case is therefore that the model now can construct the boundaries of the objects better. The initial model also took in 107s per epoch while the U-net model only took 24s to execute. \n",
    "\n",
    "![alt text](images/target_truth_IoU.png \"IoU\")\n",
    "\n",
    "#### Q2) Use different **optimization** (e.g. ADAM, SGD, etc) and **regularization** (e.g. batchnorm, dropout) methods to increase the network accuracy.\n",
    "To further improve the model I took the advice from the lab session and read the paper ´´Focal Loss for Dense Object Detection´´ by Lin et al. (2018, https://arxiv.org/pdf/1708.02002.pdf). This paper introduced a loss function based on the Cross Entropy Criterion and extends it with a factor $(1-p_{t})^{\\gamma}$ resulting in $FL(p_{t}) = - (1-p_{t})^{\\gamma}\\log(p_{t})$ (for full definition, see section 3 of their paper).\n",
    "This added factor gives the loss function an increased performance on highly imbalanced classes. According to the page on tensorflow (https://www.tensorflow.org/addons/api_docs/python/tfa/losses/SigmoidFocalCrossEntropy) this is since \"down-weighs well-classified examples and focuses on hard examples\". Meaning that the loss is much smaller in comparison with Cross Entropy when a easily classified class is missclassified. \n",
    "The value $\\gamma$ modulates this effect and Lin et al. found that a value of 2 was optimal in their case for $\\gamma$. Below is a figure comparing different values of $\\gamma$ showing both the Mean IoU and accuracy of the validation data. The different line colors are explained in the table below.\n",
    "\n",
    "| Color                            | Gamma ($\\gamma$)  |\n",
    "| ---------------------------------|:-------------:    | \n",
    "| <font color='red'>Red</font>     | 1                 | \n",
    "| <font color='green'>Green</font> | 1.5               |\n",
    "| <font color='blue'>Blue</font>   | 2                 | \n",
    "| Black                            | 2.5               | \n",
    "\n",
    "\n",
    "<table><tr>\n",
    "<td> \n",
    "  <p align=\"center\" style=\"padding: 10px\">\n",
    "    <img alt=\"Forwarding\" src=\"images/gamma_IoU1.png\" width=\"450\">\n",
    "    <br>\n",
    "    <em style=\"color: grey\">Mean Intersection over Union</em>\n",
    "  </p> \n",
    "</td>\n",
    "<td> \n",
    "  <p align=\"center\">\n",
    "    <img alt=\"Routing\" src=\"images/gamma_accuracy1.png\" width=\"450\">\n",
    "    <br>\n",
    "    <em style=\"color: grey\">Accuracy</em>\n",
    "  </p> \n",
    "</td>\n",
    "</tr></table>\n",
    "    \n",
    "Based on this comparison I chose the value of $\\gamma = 1.5$, more values were tested but didn't give any interesting result. The final result of this model can be seen in the table below. I also increased the learning rate to 0.0015 but did not change the optimization function since Adam gave the optimal solution in my case.\n",
    "\n",
    "    \n",
    "| Loss           | Accuracy  | MeanIoU  |\n",
    "|:-------------: | ---------:| --------:|\n",
    "| 0.0005         |    0.9994 | 0.9956   |\n",
    "\n",
    "The useage of a focal loss function together with the increase of the learning rate increased the accuracy with 0.56% and the Mean IoU with 4.79% together with lowering the loss with 0.0182 (97.33% relatively). This means that the model now with a high certainty can both classify the objects and construct the segmentation areas around them.\n",
    "\n",
    "### Summary"
   ]
  },
  {
   "cell_type": "code",
   "execution_count": null,
   "metadata": {},
   "outputs": [],
   "source": []
  }
 ],
 "metadata": {
  "kernelspec": {
   "display_name": "Python 3",
   "language": "python",
   "name": "python3"
  },
  "language_info": {
   "codemirror_mode": {
    "name": "ipython",
    "version": 3
   },
   "file_extension": ".py",
   "mimetype": "text/x-python",
   "name": "python",
   "nbconvert_exporter": "python",
   "pygments_lexer": "ipython3",
   "version": "3.8.6"
  }
 },
 "nbformat": 4,
 "nbformat_minor": 4
}
