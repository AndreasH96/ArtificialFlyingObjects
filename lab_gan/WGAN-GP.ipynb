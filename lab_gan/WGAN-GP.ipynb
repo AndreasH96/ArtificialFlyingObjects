{
 "cells": [
  {
   "cell_type": "markdown",
   "metadata": {},
   "source": [
    "<h1 style=\"font-size:40px;\"><center>Exercise V:<br> GANs\n",
    "</center></h1>\n",
    "\n",
    "## Short summary\n",
    "In this exercise, we will design a generative network to generate the last rgb image given the first image. These folder has **three files**: \n",
    "- **configGAN.py:** this involves definitions of all parameters and data paths\n",
    "- **utilsGAN.py:** includes utility functions required to grab and visualize data \n",
    "- **runGAN.ipynb:** contains the script to design, train and test the network \n",
    "\n",
    "Make sure that before running this script, you created an environment and **installed all required libraries** such \n",
    "as keras.\n",
    "\n",
    "## The data\n",
    "There exists also a subfolder called **data** which contains the traning, validation, and testing data each has both RGB input images together with the corresponding ground truth images.\n",
    "\n",
    "\n",
    "## The exercises\n",
    "As for the previous lab all exercises are found below.\n",
    "\n",
    "\n",
    "## The different 'Cells'\n",
    "This notebook contains several cells with python code, together with the markdown cells (like this one) with only text. Each of the cells with python code has a \"header\" markdown cell with information about the code. The table below provides a short overview of the code cells. \n",
    "\n",
    "| #  |  CellName | CellType | Comment |\n",
    "| :--- | :-------- | :-------- | :------- |\n",
    "| 1 | Init | Needed | Sets up the environment|\n",
    "| 2 | Ex | Exercise 1| A class definition of a network model  |\n",
    "| 3 | Loading | Needed | Loading parameters and initializing the model |\n",
    "| 4 | Stats | Needed | Show data distribution | \n",
    "| 5 | Data | Needed | Generating the data batches |\n",
    "| 6 | Debug | Needed | Debugging the data |\n",
    "| 7 | Device | Needed | Selecting CPU/GPU |\n",
    "| 8 | Init | Needed | Sets up the timer and other neccessary components |\n",
    "| 9 | Training | Exercise 1-2 | Training the model   |\n",
    "| 10 | Testing | Exercise 1-2| Testing the  method   |  \n",
    "\n",
    "\n",
    "In order for you to start with the exercise you need to run all cells. It is important that you do this in the correct order, starting from the top and continuing with the next cells. Later when you have started to work with the notebook it may be easier to use the command \"Run All\" found in the \"Cell\" dropdown menu.\n",
    "\n",
    "## Writing the report\n",
    "\n",
    "There is no need to provide any report. However, implemented network architecuture and observed experimental results must be presented as a short presentation in the last lecture, May 28."
   ]
  },
  {
   "cell_type": "markdown",
   "metadata": {},
   "source": [
    "1) We first start with importing all required modules"
   ]
  },
  {
   "cell_type": "code",
   "execution_count": 1,
   "metadata": {},
   "outputs": [
    {
     "name": "stdout",
     "output_type": "stream",
     "text": [
      "creating network model using gpu 0\n"
     ]
    }
   ],
   "source": [
    "import os\n",
    "from configGAN import *\n",
    "cfg = flying_objects_config()\n",
    "if cfg.GPU >=0:\n",
    "    print(\"creating network model using gpu \" + str(cfg.GPU))\n",
    "    os.environ['CUDA_VISIBLE_DEVICES'] = str(cfg.GPU)\n",
    "elif cfg.GPU >=-1:\n",
    "    print(\"creating network model using cpu \")  \n",
    "    os.environ[\"CUDA_DEVICE_ORDER\"] = \"PCI_BUS_ID\"   # see issue #152\n",
    "    os.environ[\"CUDA_VISIBLE_DEVICES\"] = \"\"\n",
    "\n",
    "import tensorflow as tf\n",
    "from tensorflow import keras\n",
    "from utilsGAN import *\n",
    "from sklearn.metrics import confusion_matrix\n",
    "# import seaborn as sns\n",
    "from datetime import datetime\n",
    "import imageio\n",
    "from skimage import img_as_ubyte\n",
    "import pprint\n",
    "# import the necessary packages\n",
    "from keras.models import Sequential\n",
    "from keras.layers.normalization import BatchNormalization\n",
    "from keras.layers.convolutional import Conv3D, Conv2D, Conv1D, Convolution2D, Deconvolution2D, Cropping2D, UpSampling2D\n",
    "from keras.layers import Input, Conv2DTranspose, ConvLSTM2D, TimeDistributed\n",
    "from keras.layers.convolutional import MaxPooling2D\n",
    "from keras.layers.core import Activation\n",
    "from keras.layers import Concatenate, concatenate, Reshape\n",
    "from keras.layers.core import Flatten\n",
    "from keras.layers.core import Dropout\n",
    "from keras.layers.core import Dense\n",
    "from keras.preprocessing.image import ImageDataGenerator\n",
    "from keras.optimizers import Adam, RMSprop\n",
    "from keras.models import Model, Sequential\n",
    "from keras.callbacks import TensorBoard\n",
    "from keras.applications.vgg16 import VGG16, preprocess_input, decode_predictions\n",
    "from keras.layers import Input, merge\n",
    "from keras.regularizers import l2, L2\n",
    "from keras.layers import Input, merge, Convolution2D, MaxPooling2D, UpSampling2D, Reshape, core, Dropout, LeakyReLU\n",
    "import keras.backend as kb\n",
    "from tensorflow.keras.losses import binary_crossentropy\n",
    "from keras.layers import Embedding, LeakyReLU, AveragePooling2D, Conv2DTranspose\n",
    "import tensorflow_addons as tfa\n",
    "from tensorflow_addons.layers import InstanceNormalization\n",
    "from tensorflow.keras.constraints import Constraint"
   ]
  },
  {
   "cell_type": "markdown",
   "metadata": {},
   "source": [
    "2) Here, we have the network model class definition. In this class, the most important functions are **build_generator()** and **build_discriminator()**. As defined in the exercises section, your task is to update the both network architectures defined in these functions."
   ]
  },
  {
   "cell_type": "code",
   "execution_count": 2,
   "metadata": {},
   "outputs": [],
   "source": [
    "def wass_loss(y_true,y_pred):\n",
    "    return kb.mean(y_true*y_pred)"
   ]
  },
  {
   "cell_type": "markdown",
   "metadata": {},
   "source": [
    "\n",
    "3) We import the network **hyperparameters** and build a simple network by calling the class introduced in the previous step. Please note that to change the hyperparameters, you just need to change the values in the file called **configPredictor.py.**"
   ]
  },
  {
   "cell_type": "code",
   "execution_count": 3,
   "metadata": {},
   "outputs": [],
   "source": [
    "from tensorflow_addons.losses import SigmoidFocalCrossEntropy\n",
    "from keras.losses import BinaryCrossentropy\n",
    "from functools import partial\n",
    "class cGANModel():\n",
    "    def __init__(self, batch_size=32, inputShape=(64, 64, 3), dropout_prob=0.25,num_classes=3):\n",
    "        super(cGANModel,self).__init__()\n",
    "        self.batch_size = batch_size\n",
    "        self.inputShape = inputShape\n",
    "        self.dropout_prob = dropout_prob\n",
    "        \n",
    "     \n",
    "        # Calculate the shape of patches\n",
    "        patch = int(self.inputShape[0] / 2**4)\n",
    "        self.disc_patch = (patch, patch, 1)\n",
    "        print(self.disc_patch)\n",
    "        # Build and compile the discriminator\n",
    "        self.discriminator = self.build_discriminator(num_classes,dropout_prob)\n",
    "        self.discriminator.compile(loss=wass_loss, optimizer= RMSprop(lr=0.00005))\n",
    "        \n",
    "        # Build the generator\n",
    "        self.generator = self.build_generator(num_classes)\n",
    "        # Input images and their conditioning images\n",
    "        first_frame = Input(shape=self.inputShape)\n",
    "        last_frame = Input(shape=self.inputShape)\n",
    "        frame_labels = Input(shape=(num_classes,))\n",
    "        \n",
    "        # By conditioning on the first frame generate a fake version of the last frame\n",
    "        fake_last_frame = self.generator([first_frame,frame_labels])\n",
    "\n",
    "        \n",
    "        # Discriminators determines validity of fake and condition first image pairs\n",
    "        valid = self.discriminator([fake_last_frame, first_frame,frame_labels])\n",
    "      \n",
    "\n",
    "\n",
    "        # For the combined model we will only train the generator\n",
    "        self.discriminator.trainable = False\n",
    "        self.generator.compile(optimizer=Adam(0.0001,beta_1=0.5))\n",
    "        self.combined = Model(inputs=[last_frame, first_frame,frame_labels], outputs=[valid, fake_last_frame])\n",
    "        self.combined.compile(loss={'discriminator':wass_loss},  \n",
    "                              optimizer=Adam(0.0001, beta_1=0.5))\n",
    "        \n",
    "    def build_generator(self,num_classes):\n",
    "         \n",
    "        inputs = Input(shape=self.inputShape)\n",
    "        \n",
    "        \n",
    "        initializer = tf.random_normal_initializer(0., 0.02)\n",
    "        activation_fun = LeakyReLU(alpha=0.2)\n",
    "        \n",
    "        n_nodes = self.inputShape[0]*self.inputShape[1]\n",
    "        label_input = Input(shape=(num_classes,))\n",
    "        label_embedding = Embedding(num_classes,3)(label_input)\n",
    "        label_embedding = Dense(n_nodes)(label_embedding)\n",
    "        label_embedding = Reshape((self.inputShape[0],self.inputShape[1],num_classes))(label_embedding)\n",
    "        \n",
    "        #merge = Concatenate()([inputs,label_embedding])\n",
    "\n",
    "        d1 =  Dense(64,activation=activation_fun)(inputs)\n",
    "        down1 = Conv2D(32, (4, 4),padding='same',strides=2,use_bias=False,kernel_initializer=initializer)(d1)\n",
    "        down1 = BatchNormalization(momentum=0.8)(down1)\n",
    "        down1 = Activation(activation_fun)(down1) \n",
    "\n",
    "        d2 = Conv2D(128, (4, 4),padding='same',kernel_initializer=initializer)(down1)#Dense(64,activation=activation_fun)(down1)\n",
    "        down2 = Conv2D(64, (4, 4), padding='same',strides=2,use_bias=False,kernel_initializer=initializer)(d2)\n",
    "        down2 = BatchNormalization(momentum=0.8)(down2)\n",
    "        down2 = Activation(activation_fun)(down2) \n",
    "        \n",
    "        \n",
    "        \n",
    "        d3 = Conv2D(256, (4, 4),padding='same',kernel_initializer=initializer)(down2)#Dense(64,activation=activation_fun)(down2)\n",
    "        down3 = Conv2D(128,(4 , 4),padding='same',strides = 2,use_bias=False,kernel_initializer=initializer)(d3)\n",
    "        down3 = BatchNormalization(momentum=0.8)(down3)\n",
    "        down3 = Activation(activation_fun)(down3) \n",
    "        \n",
    "        down4 = Conv2D(512, (4, 4),padding='same',kernel_initializer=initializer)(down3)\n",
    "        \n",
    "        up1 = Conv2DTranspose(256, (4, 4),strides=2, padding='same',kernel_initializer=initializer)(down4) \n",
    "        up1 = concatenate([d3, up1], axis=3)\n",
    "        up1 = Activation(activation_fun)(up1) \n",
    "        up1 = Dropout(self.dropout_prob)(up1)\n",
    "        \n",
    "\n",
    "        up2 = Conv2DTranspose(128, (4, 4), strides=2,padding='same',kernel_initializer=initializer)(up1) \n",
    "        up2 = concatenate([down1, up2], axis=3)\n",
    "        up2 = Activation(activation_fun)(up2) \n",
    "        up2 = Dropout(self.dropout_prob)(up2)\n",
    "        \n",
    "        up3 = Conv2DTranspose(64, (4, 4), strides=2,padding='same',kernel_initializer=initializer)(up2) \n",
    "        up3 = concatenate([d1, up3], axis=3)\n",
    "        up3 = Activation(activation_fun)(up3) \n",
    "        up3 = Dropout(self.dropout_prob)(up3)\n",
    "         \n",
    "        nbr_img_channels = self.inputShape[2]\n",
    "        outputs = Conv2D(nbr_img_channels, (4, 4), activation='sigmoid',padding = 'same',name='gen_image')(up3)\n",
    "        \n",
    "        model = Model([inputs,label_input], outputs,name='generator')\n",
    "        model.summary()\n",
    "        return model\n",
    "\n",
    "    def build_discriminator(self,num_classes,dropout_prob):\n",
    "        last_img = Input(shape=self.inputShape)\n",
    "        first_img = Input(shape=self.inputShape)\n",
    "        n_nodes = self.inputShape[0] * self.inputShape[1]\n",
    "        #Weight constraint\n",
    "\n",
    "        labelInput = Input(shape=(num_classes,))\n",
    "        label_embedding = Embedding(num_classes,3)(labelInput)\n",
    "\n",
    "        label_embedding = Dense(n_nodes)(label_embedding)\n",
    "        label_embedding = Reshape((self.inputShape[0],self.inputShape[1],num_classes))(label_embedding)\n",
    "\n",
    "        # Concatenate image and conditioning image by channels to produce input\n",
    "        combined_imgs = Concatenate()([last_img, first_img])#,label_embedding])\n",
    "\n",
    "        activation_fun = LeakyReLU(alpha=0.2)\n",
    "\n",
    "        down1 = Conv2D(16,(4,4),padding='same',activation=activation_fun,strides=2)(combined_imgs)\n",
    "        #down1 = Dropout(dropout_prob)(down1)\n",
    "\n",
    "\n",
    "        down2 = Conv2D(32,(4,4),padding='same',activation=activation_fun,strides=2)(down1)\n",
    "        #down2 = Dropout(dropout_prob)(down2)\n",
    "\n",
    "\n",
    "        down3 = Conv2D(64,(4,4),padding='same',activation=activation_fun,strides=2)(down2)\n",
    "        #down3 = Dropout(dropout_prob)(down3)\n",
    "\n",
    "\n",
    "        down4 = Conv2D(64,(4,4),padding='same',activation=activation_fun,strides=2)(down3)\n",
    "        #down4 = Dropout(dropout_prob)(down4)\n",
    "        validity = Dense(1,activation=None)(down4)\n",
    "        model = Model([last_img, first_img,labelInput], validity,name='discriminator')\n",
    "        model.summary()\n",
    "        return model\n"
   ]
  },
  {
   "cell_type": "code",
   "execution_count": 4,
   "metadata": {
    "scrolled": false
   },
   "outputs": [
    {
     "name": "stdout",
     "output_type": "stream",
     "text": [
      "(2, 2, 1)\n",
      "Model: \"discriminator\"\n",
      "__________________________________________________________________________________________________\n",
      "Layer (type)                    Output Shape         Param #     Connected to                     \n",
      "==================================================================================================\n",
      "input_1 (InputLayer)            [(None, 32, 32, 3)]  0                                            \n",
      "__________________________________________________________________________________________________\n",
      "input_2 (InputLayer)            [(None, 32, 32, 3)]  0                                            \n",
      "__________________________________________________________________________________________________\n",
      "concatenate (Concatenate)       (None, 32, 32, 6)    0           input_1[0][0]                    \n",
      "                                                                 input_2[0][0]                    \n",
      "__________________________________________________________________________________________________\n",
      "conv2d (Conv2D)                 (None, 16, 16, 16)   1552        concatenate[0][0]                \n",
      "__________________________________________________________________________________________________\n",
      "conv2d_1 (Conv2D)               (None, 8, 8, 32)     8224        conv2d[0][0]                     \n",
      "__________________________________________________________________________________________________\n",
      "conv2d_2 (Conv2D)               (None, 4, 4, 64)     32832       conv2d_1[0][0]                   \n",
      "__________________________________________________________________________________________________\n",
      "conv2d_3 (Conv2D)               (None, 2, 2, 64)     65600       conv2d_2[0][0]                   \n",
      "__________________________________________________________________________________________________\n",
      "input_3 (InputLayer)            [(None, 12)]         0                                            \n",
      "__________________________________________________________________________________________________\n",
      "dense_1 (Dense)                 (None, 2, 2, 1)      65          conv2d_3[0][0]                   \n",
      "==================================================================================================\n",
      "Total params: 108,273\n",
      "Trainable params: 108,273\n",
      "Non-trainable params: 0\n",
      "__________________________________________________________________________________________________\n",
      "Model: \"generator\"\n",
      "__________________________________________________________________________________________________\n",
      "Layer (type)                    Output Shape         Param #     Connected to                     \n",
      "==================================================================================================\n",
      "input_4 (InputLayer)            [(None, 32, 32, 3)]  0                                            \n",
      "__________________________________________________________________________________________________\n",
      "dense_3 (Dense)                 (None, 32, 32, 64)   256         input_4[0][0]                    \n",
      "__________________________________________________________________________________________________\n",
      "conv2d_4 (Conv2D)               (None, 16, 16, 32)   32768       dense_3[0][0]                    \n",
      "__________________________________________________________________________________________________\n",
      "batch_normalization (BatchNorma (None, 16, 16, 32)   128         conv2d_4[0][0]                   \n",
      "__________________________________________________________________________________________________\n",
      "activation (Activation)         (None, 16, 16, 32)   0           batch_normalization[0][0]        \n",
      "__________________________________________________________________________________________________\n",
      "conv2d_5 (Conv2D)               (None, 16, 16, 128)  65664       activation[0][0]                 \n",
      "__________________________________________________________________________________________________\n",
      "conv2d_6 (Conv2D)               (None, 8, 8, 64)     131072      conv2d_5[0][0]                   \n",
      "__________________________________________________________________________________________________\n",
      "batch_normalization_1 (BatchNor (None, 8, 8, 64)     256         conv2d_6[0][0]                   \n",
      "__________________________________________________________________________________________________\n",
      "activation_1 (Activation)       (None, 8, 8, 64)     0           batch_normalization_1[0][0]      \n",
      "__________________________________________________________________________________________________\n",
      "conv2d_7 (Conv2D)               (None, 8, 8, 256)    262400      activation_1[0][0]               \n",
      "__________________________________________________________________________________________________\n",
      "conv2d_8 (Conv2D)               (None, 4, 4, 128)    524288      conv2d_7[0][0]                   \n",
      "__________________________________________________________________________________________________\n",
      "batch_normalization_2 (BatchNor (None, 4, 4, 128)    512         conv2d_8[0][0]                   \n",
      "__________________________________________________________________________________________________\n",
      "activation_2 (Activation)       (None, 4, 4, 128)    0           batch_normalization_2[0][0]      \n",
      "__________________________________________________________________________________________________\n",
      "conv2d_9 (Conv2D)               (None, 4, 4, 512)    1049088     activation_2[0][0]               \n",
      "__________________________________________________________________________________________________\n",
      "conv2d_transpose (Conv2DTranspo (None, 8, 8, 256)    2097408     conv2d_9[0][0]                   \n",
      "__________________________________________________________________________________________________\n",
      "concatenate_1 (Concatenate)     (None, 8, 8, 512)    0           conv2d_7[0][0]                   \n",
      "                                                                 conv2d_transpose[0][0]           \n",
      "__________________________________________________________________________________________________\n",
      "activation_3 (Activation)       (None, 8, 8, 512)    0           concatenate_1[0][0]              \n",
      "__________________________________________________________________________________________________\n",
      "dropout (Dropout)               (None, 8, 8, 512)    0           activation_3[0][0]               \n",
      "__________________________________________________________________________________________________\n",
      "conv2d_transpose_1 (Conv2DTrans (None, 16, 16, 128)  1048704     dropout[0][0]                    \n",
      "__________________________________________________________________________________________________\n",
      "concatenate_2 (Concatenate)     (None, 16, 16, 160)  0           activation[0][0]                 \n",
      "                                                                 conv2d_transpose_1[0][0]         \n",
      "__________________________________________________________________________________________________\n",
      "activation_4 (Activation)       (None, 16, 16, 160)  0           concatenate_2[0][0]              \n",
      "__________________________________________________________________________________________________\n",
      "dropout_1 (Dropout)             (None, 16, 16, 160)  0           activation_4[0][0]               \n",
      "__________________________________________________________________________________________________\n",
      "conv2d_transpose_2 (Conv2DTrans (None, 32, 32, 64)   163904      dropout_1[0][0]                  \n",
      "__________________________________________________________________________________________________\n",
      "concatenate_3 (Concatenate)     (None, 32, 32, 128)  0           dense_3[0][0]                    \n",
      "                                                                 conv2d_transpose_2[0][0]         \n",
      "__________________________________________________________________________________________________\n",
      "activation_5 (Activation)       (None, 32, 32, 128)  0           concatenate_3[0][0]              \n",
      "__________________________________________________________________________________________________\n",
      "dropout_2 (Dropout)             (None, 32, 32, 128)  0           activation_5[0][0]               \n",
      "__________________________________________________________________________________________________\n",
      "input_5 (InputLayer)            [(None, 12)]         0                                            \n",
      "__________________________________________________________________________________________________\n",
      "gen_image (Conv2D)              (None, 32, 32, 3)    6147        dropout_2[0][0]                  \n",
      "==================================================================================================\n",
      "Total params: 5,382,595\n",
      "Trainable params: 5,382,147\n",
      "Non-trainable params: 448\n",
      "__________________________________________________________________________________________________\n"
     ]
    }
   ],
   "source": [
    "#image_shape = (cfg.IMAGE_HEIGHT, cfg.IMAGE_WIDTH, cfg.IMAGE_CHANNEL)\n",
    "image_shape = (32, 32, cfg.IMAGE_CHANNEL)\n",
    "modelObj = cGANModel(batch_size=cfg.BATCH_SIZE, inputShape=image_shape,\n",
    "                                 dropout_prob=cfg.DROPOUT_PROB,num_classes=12)"
   ]
  },
  {
   "cell_type": "markdown",
   "metadata": {},
   "source": [
    "4) We call the utility function **show_statistics** to display the data distribution. This is just for debugging purpose."
   ]
  },
  {
   "cell_type": "code",
   "execution_count": 5,
   "metadata": {},
   "outputs": [
    {
     "name": "stdout",
     "output_type": "stream",
     "text": [
      "\n",
      "######################################################################\n",
      "##################### Training Data Statistics #####################\n",
      "######################################################################\n",
      "total image number \t 10817\n",
      "total class number \t 3\n",
      "class square \t 3488 images\n",
      "class triangle \t 3703 images\n",
      "class circular \t 3626 images\n",
      "######################################################################\n",
      "\n",
      "######################################################################\n",
      "##################### Validation Data Statistics #####################\n",
      "######################################################################\n",
      "total image number \t 2241\n",
      "total class number \t 3\n",
      "class circular \t 713 images\n",
      "class square \t 783 images\n",
      "class triangle \t 745 images\n",
      "######################################################################\n",
      "\n",
      "######################################################################\n",
      "##################### Testing Data Statistics #####################\n",
      "######################################################################\n",
      "total image number \t 2220\n",
      "total class number \t 3\n",
      "class circular \t 722 images\n",
      "class square \t 765 images\n",
      "class triangle \t 733 images\n",
      "######################################################################\n"
     ]
    }
   ],
   "source": [
    "#### show how the data looks like\n",
    "show_statistics(cfg.training_data_dir, fineGrained=False, title=\" Training Data Statistics \")\n",
    "show_statistics(cfg.validation_data_dir, fineGrained=False, title=\" Validation Data Statistics \")\n",
    "show_statistics(cfg.testing_data_dir, fineGrained=False, title=\" Testing Data Statistics \")"
   ]
  },
  {
   "cell_type": "markdown",
   "metadata": {},
   "source": [
    "5) We now create batch generators to get small batches from the entire dataset. There is no need to change these functions as they already return **normalized inputs as batches**."
   ]
  },
  {
   "cell_type": "code",
   "execution_count": 6,
   "metadata": {},
   "outputs": [
    {
     "name": "stdout",
     "output_type": "stream",
     "text": [
      "Data batch generators are created!\n"
     ]
    }
   ],
   "source": [
    "\n",
    "nbr_train_data = get_dataset_size(cfg.training_data_dir)\n",
    "nbr_valid_data = get_dataset_size(cfg.validation_data_dir)\n",
    "nbr_test_data = get_dataset_size(cfg.testing_data_dir)\n",
    "train_batch_generator = generate_lastframepredictor_batches(cfg.training_data_dir, image_shape, cfg.BATCH_SIZE)\n",
    "valid_batch_generator = generate_lastframepredictor_batches(cfg.validation_data_dir, image_shape, cfg.BATCH_SIZE)\n",
    "test_batch_generator = generate_lastframepredictor_batches(cfg.testing_data_dir, image_shape, cfg.BATCH_SIZE)\n",
    "print(\"Data batch generators are created!\")"
   ]
  },
  {
   "cell_type": "code",
   "execution_count": 7,
   "metadata": {},
   "outputs": [],
   "source": [
    "\n",
    "test_first_imgs, test_last_imgs, test_img_labels = next(test_batch_generator)\n",
    "def label_encoder(input_labels):\n",
    "    encoded = np.empty((len(input_labels),len(cfg.CLASSES)))\n",
    "    for index, label in enumerate(input_labels):\n",
    "        vec = np.zeros(12)\n",
    "        vec[cfg.CLASSES.index(label)] = 1\n",
    "        encoded[index] = vec\n",
    "    return encoded\n"
   ]
  },
  {
   "cell_type": "markdown",
   "metadata": {},
   "source": [
    "6) We can visualize how the data looks like for debugging purpose"
   ]
  },
  {
   "cell_type": "code",
   "execution_count": 8,
   "metadata": {},
   "outputs": [
    {
     "name": "stdout",
     "output_type": "stream",
     "text": [
      "train_x (30, 32, 32, 3) float32 0.0 1.0\n",
      "train_y (30, 32, 32, 3) float32 0.0 1.0\n"
     ]
    },
    {
     "data": {
      "image/png": "[encoded data removed]",
      "text/plain": [
       "<Figure size 720x720 with 12 Axes>"
      ]
     },
     "metadata": {},
     "output_type": "display_data"
    },
    {
     "name": "stdout",
     "output_type": "stream",
     "text": [
      "{'BATCH_SIZE': 30,\n",
      " 'CLASSES': ['square_red',\n",
      "             'square_green',\n",
      "             'square_blue',\n",
      "             'square_yellow',\n",
      "             'triangle_red',\n",
      "             'triangle_green',\n",
      "             'triangle_blue',\n",
      "             'triangle_yellow',\n",
      "             'circular_red',\n",
      "             'circular_green',\n",
      "             'circular_blue',\n",
      "             'circular_yellow'],\n",
      " 'DATA_AUGMENTATION': True,\n",
      " 'DEBUG_MODE': True,\n",
      " 'DROPOUT_PROB': 0.5,\n",
      " 'GPU': 0,\n",
      " 'IMAGE_CHANNEL': 3,\n",
      " 'IMAGE_HEIGHT': 32,\n",
      " 'IMAGE_WIDTH': 32,\n",
      " 'LEARNING_RATE': 0.01,\n",
      " 'LR_DECAY_FACTOR': 0.1,\n",
      " 'NUM_EPOCHS': 5,\n",
      " 'PRINT_EVERY': 20,\n",
      " 'SAVE_EVERY': 1,\n",
      " 'SEQUENCE_LENGTH': 10,\n",
      " 'testing_data_dir': '../data/FlyingObjectDataset_10K/testing',\n",
      " 'training_data_dir': '../data/FlyingObjectDataset_10K/training',\n",
      " 'validation_data_dir': '../data/FlyingObjectDataset_10K/validation'}\n"
     ]
    }
   ],
   "source": [
    "if cfg.DEBUG_MODE:\n",
    "    t_x, t_y,_ = next(train_batch_generator)\n",
    "    print('train_x', t_x.shape, t_x.dtype, t_x.min(), t_x.max())\n",
    "    print('train_y', t_y.shape, t_y.dtype, t_y.min(), t_y.max()) \n",
    "    plot_sample_lastframepredictor_data_with_groundtruth(t_x, t_y, t_y)\n",
    "    pprint.pprint (cfg)"
   ]
  },
  {
   "cell_type": "markdown",
   "metadata": {},
   "source": [
    "7) Start timer and init matrices"
   ]
  },
  {
   "cell_type": "code",
   "execution_count": 9,
   "metadata": {},
   "outputs": [],
   "source": [
    "start_time = datetime.now()\n",
    "# Adversarial loss ground truths\n",
    "valid = -np.ones((cfg.BATCH_SIZE,) + modelObj.disc_patch)\n",
    "fake = np.ones((cfg.BATCH_SIZE,) + modelObj.disc_patch)#np.zeros((cfg.BATCH_SIZE,) + modelObj.disc_patch)\n",
    "# log file\n",
    "output_log_dir = \"./logs/{}\".format(datetime.now().strftime(\"%Y%m%d-%H%M%S\"))\n",
    "if not os.path.exists(output_log_dir):\n",
    "    os.makedirs(output_log_dir)"
   ]
  },
  {
   "cell_type": "code",
   "execution_count": 10,
   "metadata": {},
   "outputs": [],
   "source": [
    "# NOT USED\n",
    "# # This method returns a helper function to compute cross entropy loss\n",
    "# cross_entropy = tf.keras.losses.BinaryCrossentropy()\n",
    "\n",
    "# def discriminator_loss(real_output, fake_output):\n",
    "#     real_loss = cross_entropy(tf.ones_like(real_output), real_output)\n",
    "#     fake_loss = cross_entropy(tf.zeros_like(fake_output), fake_output)\n",
    "#     total_loss = real_loss + fake_loss\n",
    "#     return total_loss\n",
    "\n",
    "# def generator_loss(fake_output):\n",
    "#     return cross_entropy(tf.ones_like(fake_output), fake_output)\n"
   ]
  },
  {
   "cell_type": "code",
   "execution_count": 11,
   "metadata": {},
   "outputs": [],
   "source": [
    "def gradient_penalty(discriminator,x,labels, y_true, y_pred):\n",
    "        epsilon = tf.random.uniform([y_true.shape[0], 1, 1, 1], 0.0, 1.0)\n",
    "        y_hat = epsilon * y_true + (1 - epsilon) * y_pred\n",
    "        with tf.GradientTape() as t:\n",
    "            t.watch(y_hat)\n",
    "            d_hat = discriminator([y_hat, x,labels])\n",
    "        gradients = t.gradient(d_hat, y_hat)\n",
    "        ddx = tf.sqrt(tf.reduce_sum(gradients ** 2, axis=[1, 2]))\n",
    "        d_regularizer = tf.reduce_mean((ddx - 1.0) ** 2)\n",
    "        return d_regularizer"
   ]
  },
  {
   "cell_type": "code",
   "execution_count": 12,
   "metadata": {},
   "outputs": [],
   "source": [
    "def calculate_loss(discriminator, generator, x,labels,y_true,gradient_penalty_weight):\n",
    "    y_pred = generator([x,labels])\n",
    "\n",
    "    gp = gradient_penalty(discriminator,x,labels,y_true,y_pred)\n",
    "    \n",
    "    output_valid = discriminator([y_true,x,labels])\n",
    "    output_fake = discriminator([y_pred,x,labels])\n",
    "    \n",
    "    disc_loss = (tf.reduce_mean(output_fake) - tf.reduce_mean(output_valid) + ( gp * gradient_penalty_weight ))\n",
    "    \n",
    "    gen_loss = tf.reduce_mean(output_fake)\n",
    "    \n",
    "    return disc_loss, gen_loss\n",
    "    \n",
    "    "
   ]
  },
  {
   "cell_type": "markdown",
   "metadata": {},
   "source": [
    "8) We can now feed the training and validation data to the network. This will train the network for **some epochs**. Note that the epoch number is also predefined in the file called **configGAN.py.**"
   ]
  },
  {
   "cell_type": "code",
   "execution_count": 13,
   "metadata": {
    "scrolled": false
   },
   "outputs": [
    {
     "name": "stdout",
     "output_type": "stream",
     "text": [
      "(30, 12)\n",
      "1/1 [==============================] - 0s 934us/step - loss: -0.0101\n",
      "1/1 [==============================] - 0s 642us/step - loss: 0.0021\n",
      "1/1 [==============================] - 0s 1ms/step - loss: -0.0021 - discriminator_loss: -0.0021\n"
     ]
    },
    {
     "data": {
      "image/png": "[encoded data removed]",
      "text/plain": [
       "<Figure size 720x576 with 8 Axes>"
      ]
     },
     "metadata": {
      "needs_background": "light"
     },
     "output_type": "display_data"
    },
    {
     "name": "stdout",
     "output_type": "stream",
     "text": [
      "=====RUN 1 of 10=====\n"
     ]
    },
    {
     "data": {
      "application/vnd.jupyter.widget-view+json": {
       "model_id": "e609ea7c1b8341499204c667bd459305",
       "version_major": 2,
       "version_minor": 0
      },
      "text/plain": [
       "HBox(children=(HTML(value=''), FloatProgress(value=0.0, max=360.0), HTML(value='')))"
      ]
     },
     "metadata": {},
     "output_type": "display_data"
    },
    {
     "name": "stdout",
     "output_type": "stream",
     "text": [
      "[Epoch 0/5] [Batch 1/360] [D loss: 8.684548] [G loss: 0.001037] time: 0:00:05.523482\n",
      "[Epoch 0/5] [Batch 90/360] [D loss: 7.991498] [G loss: -0.406427] time: 0:00:11.148832\n",
      "[Epoch 0/5] [Batch 180/360] [D loss: 7.918636] [G loss: -0.412579] time: 0:00:16.808817\n",
      "[Epoch 0/5] [Batch 270/360] [D loss: 7.999059] [G loss: -0.382425] time: 0:00:22.431013\n",
      "[Epoch 0/5] [Batch 358/360] [D loss: 8.013775] [G loss: -0.383290] time: 0:00:27.945344\n",
      "\n"
     ]
    },
    {
     "data": {
      "image/png": "[encoded data removed]",
      "text/plain": [
       "<Figure size 720x576 with 8 Axes>"
      ]
     },
     "metadata": {
      "needs_background": "light"
     },
     "output_type": "display_data"
    },
    {
     "name": "stdout",
     "output_type": "stream",
     "text": [
      "=======VALIDATION=======\n",
      "D loss: 7.966442584991455 G loss: 0.3821549415588379 \n",
      "=====RUN 2 of 10=====\n"
     ]
    },
    {
     "data": {
      "application/vnd.jupyter.widget-view+json": {
       "model_id": "1d26ae5d3d794f2d919528d661c4b739",
       "version_major": 2,
       "version_minor": 0
      },
      "text/plain": [
       "HBox(children=(HTML(value=''), FloatProgress(value=0.0, max=360.0), HTML(value='')))"
      ]
     },
     "metadata": {},
     "output_type": "display_data"
    },
    {
     "name": "stdout",
     "output_type": "stream",
     "text": [
      "[Epoch 1/5] [Batch 1/360] [D loss: 7.950531] [G loss: -0.384512] time: 0:00:28.599698\n",
      "\n"
     ]
    },
    {
     "ename": "KeyboardInterrupt",
     "evalue": "",
     "output_type": "error",
     "traceback": [
      "\u001b[0;31m---------------------------------------------------------------------------\u001b[0m",
      "\u001b[0;31mKeyboardInterrupt\u001b[0m                         Traceback (most recent call last)",
      "\u001b[0;32m<ipython-input-13-842052cb8e18>\u001b[0m in \u001b[0;36m<module>\u001b[0;34m\u001b[0m\n\u001b[1;32m     62\u001b[0m     \u001b[0msteps_per_epoch\u001b[0m \u001b[0;34m=\u001b[0m \u001b[0;34m(\u001b[0m\u001b[0mnbr_train_data\u001b[0m \u001b[0;34m//\u001b[0m \u001b[0;36m30\u001b[0m\u001b[0;34m)\u001b[0m\u001b[0;34m\u001b[0m\u001b[0;34m\u001b[0m\u001b[0m\n\u001b[1;32m     63\u001b[0m     \u001b[0;32mfor\u001b[0m \u001b[0mbatch_i\u001b[0m \u001b[0;32min\u001b[0m \u001b[0mtrange\u001b[0m\u001b[0;34m(\u001b[0m\u001b[0msteps_per_epoch\u001b[0m\u001b[0;34m)\u001b[0m\u001b[0;34m:\u001b[0m\u001b[0;34m\u001b[0m\u001b[0;34m\u001b[0m\u001b[0m\n\u001b[0;32m---> 64\u001b[0;31m         \u001b[0mfirst_frames\u001b[0m\u001b[0;34m,\u001b[0m \u001b[0mlast_frames\u001b[0m\u001b[0;34m,\u001b[0m \u001b[0mimage_labels\u001b[0m \u001b[0;34m=\u001b[0m \u001b[0mnext\u001b[0m\u001b[0;34m(\u001b[0m\u001b[0mtrain_batch_generator\u001b[0m\u001b[0;34m)\u001b[0m\u001b[0;34m\u001b[0m\u001b[0;34m\u001b[0m\u001b[0m\n\u001b[0m\u001b[1;32m     65\u001b[0m         \u001b[0;32mif\u001b[0m \u001b[0mfirst_frames\u001b[0m\u001b[0;34m.\u001b[0m\u001b[0mshape\u001b[0m\u001b[0;34m[\u001b[0m\u001b[0;36m0\u001b[0m\u001b[0;34m]\u001b[0m \u001b[0;34m==\u001b[0m \u001b[0mcfg\u001b[0m\u001b[0;34m.\u001b[0m\u001b[0mBATCH_SIZE\u001b[0m\u001b[0;34m:\u001b[0m\u001b[0;34m\u001b[0m\u001b[0;34m\u001b[0m\u001b[0m\n\u001b[1;32m     66\u001b[0m             \u001b[0;31m#print(first_frames.shape)\u001b[0m\u001b[0;34m\u001b[0m\u001b[0;34m\u001b[0m\u001b[0;34m\u001b[0m\u001b[0m\n",
      "\u001b[0;32m~/Documents/School/DeepLearning/ArtificialFlyingObjects/lab_gan/utilsGAN.py\u001b[0m in \u001b[0;36mgenerate_lastframepredictor_batches\u001b[0;34m(data_folder, image_shape, batch_size)\u001b[0m\n\u001b[1;32m    208\u001b[0m                 \u001b[0mimage\u001b[0m \u001b[0;34m=\u001b[0m \u001b[0mImage\u001b[0m\u001b[0;34m.\u001b[0m\u001b[0mopen\u001b[0m\u001b[0;34m(\u001b[0m\u001b[0mimage_file\u001b[0m\u001b[0;34m)\u001b[0m\u001b[0;34m\u001b[0m\u001b[0;34m\u001b[0m\u001b[0m\n\u001b[1;32m    209\u001b[0m \u001b[0;34m\u001b[0m\u001b[0m\n\u001b[0;32m--> 210\u001b[0;31m                 \u001b[0mimage\u001b[0m \u001b[0;34m=\u001b[0m \u001b[0mimage\u001b[0m\u001b[0;34m.\u001b[0m\u001b[0mresize\u001b[0m\u001b[0;34m(\u001b[0m\u001b[0;34m(\u001b[0m\u001b[0mimage_shape\u001b[0m\u001b[0;34m[\u001b[0m\u001b[0;36m0\u001b[0m\u001b[0;34m]\u001b[0m\u001b[0;34m,\u001b[0m \u001b[0mimage_shape\u001b[0m\u001b[0;34m[\u001b[0m\u001b[0;36m1\u001b[0m\u001b[0;34m]\u001b[0m\u001b[0;34m)\u001b[0m\u001b[0;34m)\u001b[0m\u001b[0;34m\u001b[0m\u001b[0;34m\u001b[0m\u001b[0m\n\u001b[0m\u001b[1;32m    211\u001b[0m                 \u001b[0mimage\u001b[0m \u001b[0;34m=\u001b[0m \u001b[0mnp\u001b[0m\u001b[0;34m.\u001b[0m\u001b[0masarray\u001b[0m\u001b[0;34m(\u001b[0m\u001b[0mimage\u001b[0m\u001b[0;34m)\u001b[0m\u001b[0;34m\u001b[0m\u001b[0;34m\u001b[0m\u001b[0m\n\u001b[1;32m    212\u001b[0m \u001b[0;34m\u001b[0m\u001b[0m\n",
      "\u001b[0;32m~/Documents/School/DeepLearning/ArtificialFlyingObjects/env/lib/python3.8/site-packages/PIL/Image.py\u001b[0m in \u001b[0;36mresize\u001b[0;34m(self, size, resample, box, reducing_gap)\u001b[0m\n\u001b[1;32m   1920\u001b[0m                 )\n\u001b[1;32m   1921\u001b[0m \u001b[0;34m\u001b[0m\u001b[0m\n\u001b[0;32m-> 1922\u001b[0;31m         \u001b[0;32mreturn\u001b[0m \u001b[0mself\u001b[0m\u001b[0;34m.\u001b[0m\u001b[0m_new\u001b[0m\u001b[0;34m(\u001b[0m\u001b[0mself\u001b[0m\u001b[0;34m.\u001b[0m\u001b[0mim\u001b[0m\u001b[0;34m.\u001b[0m\u001b[0mresize\u001b[0m\u001b[0;34m(\u001b[0m\u001b[0msize\u001b[0m\u001b[0;34m,\u001b[0m \u001b[0mresample\u001b[0m\u001b[0;34m,\u001b[0m \u001b[0mbox\u001b[0m\u001b[0;34m)\u001b[0m\u001b[0;34m)\u001b[0m\u001b[0;34m\u001b[0m\u001b[0;34m\u001b[0m\u001b[0m\n\u001b[0m\u001b[1;32m   1923\u001b[0m \u001b[0;34m\u001b[0m\u001b[0m\n\u001b[1;32m   1924\u001b[0m     \u001b[0;32mdef\u001b[0m \u001b[0mreduce\u001b[0m\u001b[0;34m(\u001b[0m\u001b[0mself\u001b[0m\u001b[0;34m,\u001b[0m \u001b[0mfactor\u001b[0m\u001b[0;34m,\u001b[0m \u001b[0mbox\u001b[0m\u001b[0;34m=\u001b[0m\u001b[0;32mNone\u001b[0m\u001b[0;34m)\u001b[0m\u001b[0;34m:\u001b[0m\u001b[0;34m\u001b[0m\u001b[0;34m\u001b[0m\u001b[0m\n",
      "\u001b[0;31mKeyboardInterrupt\u001b[0m: "
     ]
    }
   ],
   "source": [
    "from tqdm.notebook import tqdm, trange\n",
    "\n",
    "import imageio \n",
    "test_first_imgs, test_last_imgs,test_labels = next(test_batch_generator)\n",
    "\n",
    "plot_first_imgs, plot_last_imgs, plot_lables_imgs = next(valid_batch_generator)\n",
    "\n",
    "plot_lables_imgs = label_encoder(plot_lables_imgs)#mapLabels(plot_lables_imgs)\n",
    "print(plot_lables_imgs.shape)\n",
    "\n",
    "disc_losses_val = []\n",
    "generator_losses_val = []\n",
    "disc_accuracies_val_fake = []\n",
    "disc_accuracies_val_real = []\n",
    "conditional = True\n",
    "plot_epoch = False\n",
    "plots = []\n",
    "\n",
    "                \n",
    "\n",
    "fake_last_frames_plot = modelObj.generator.predict([plot_first_imgs,plot_lables_imgs])\n",
    "# Train the discriminator with combined loss  \n",
    "d_loss_real = modelObj.discriminator.evaluate([plot_last_imgs, plot_first_imgs,plot_lables_imgs], valid)#modelObj.discriminator.train_on_batch([plot_last_imgs, plot_first_imgs,plot_lables_imgs], valid)\n",
    "d_loss_fake = modelObj.discriminator.evaluate([fake_last_frames_plot, plot_first_imgs,plot_lables_imgs], fake)#modelObj.discriminator.train_on_batch([fake_last_frames_plot, plot_first_imgs,plot_lables_imgs], fake)\n",
    "d_loss = 0.5 * np.add(d_loss_real, d_loss_fake)\n",
    "\n",
    "\n",
    "g_loss = modelObj.combined.evaluate([plot_last_imgs, plot_first_imgs,plot_lables_imgs], [valid, plot_last_imgs])\n",
    "\n",
    "disc_losses_val.append(d_loss)\n",
    "generator_losses_val.append(g_loss[0])\n",
    "\n",
    "left, width = .25, .5\n",
    "bottom, height = .25, .5\n",
    "right = left + width\n",
    "top = bottom + height\n",
    "rows = 2\n",
    "fig, axs = plt.subplots(nrows=rows, ncols=4, figsize=(10, 8))\n",
    "for ax, batch_i in zip(axs, range(rows)):\n",
    "\n",
    "    ax[0].text(0.5*(left+right), 0.5*(bottom+top), 0,\n",
    "    horizontalalignment='center',\n",
    "    verticalalignment='center',\n",
    "    fontsize=15)\n",
    "    ax[0].axis('off')\n",
    "    for i, img in zip(range(1,4), [[\"First Img\", plot_first_imgs[batch_i]], [\"Last Img\", plot_last_imgs[batch_i]], [\"Fake Last Img\", fake_last_frames_plot[batch_i]]]):\n",
    "        ax[i].imshow(img[1])\n",
    "        if(batch_i == 0):\n",
    "            ax[i].set_title(img[0])\n",
    "        ax[i].axis('auto')\n",
    "\n",
    "plt.tight_layout()\n",
    "plt.show()\n",
    "fig.canvas.draw()       # draw the canvas, cache the renderer\n",
    "image = np.frombuffer(fig.canvas.tostring_rgb(), dtype='uint8')\n",
    "image  = image.reshape(fig.canvas.get_width_height()[::-1] + (3,))\n",
    "plots.append(image)\n",
    "\n",
    "\n",
    "for epoch in range(20):#cfg.NUM_EPOCHS):\n",
    "    print(\"=====RUN {} of {}=====\".format(epoch+1,10))\n",
    "    steps_per_epoch = (nbr_train_data // 30) \n",
    "    for batch_i in trange(steps_per_epoch):\n",
    "        first_frames, last_frames, image_labels = next(train_batch_generator)\n",
    "        if first_frames.shape[0] == cfg.BATCH_SIZE: \n",
    "            #print(first_frames.shape)\n",
    "            image_labels = label_encoder(image_labels)#mapLabels(image_labels)\n",
    "            \n",
    "            fake_last_frames = modelObj.generator([first_frames,image_labels])\n",
    "            \n",
    "            with tf.GradientTape() as gen_tape, tf.GradientTape() as disc_tape:\n",
    "                d_loss, g_loss = calculate_loss(modelObj.discriminator,modelObj.generator,first_frames,\n",
    "                                             image_labels,last_frames,10)\n",
    "            gen_gradients = gen_tape.gradient(g_loss,modelObj.generator.trainable_weights)\n",
    "            disc_gradients = disc_tape.gradient(d_loss,modelObj.discriminator.trainable_weights)\n",
    "            \n",
    "            \n",
    "            \n",
    "            \n",
    "            modelObj.generator.optimizer.apply_gradients(zip(gen_gradients,modelObj.generator.trainable_variables))\n",
    "            \n",
    "            modelObj.discriminator.optimizer.apply_gradients(zip(disc_gradients,modelObj.discriminator.trainable_variables))\n",
    "            \n",
    "            \n",
    "            \n",
    "#              # Train the discriminator with combined loss  \n",
    "#             d_loss_real = modelObj.discriminator.train_on_batch([last_frames, first_frames,image_labels], valid)\n",
    "#             d_loss_fake = modelObj.discriminator.train_on_batch([fake_last_frames, first_frames,image_labels], fake)\n",
    "#             d_loss = 0.5 * np.add(d_loss_real, d_loss_fake)\n",
    "\n",
    "\n",
    "#             g_loss = modelObj.combined.train_on_batch( [last_frames,first_frames,image_labels], [valid,last_frames])\n",
    "\n",
    "\n",
    "            elapsed_time = datetime.now() - start_time \n",
    "\n",
    "            if  batch_i in [1,90,180,270,358]:\n",
    "                print (\"[Epoch %d/%d] [Batch %d/%d] [D loss: %f] [G loss: %f] time: %s\" % (epoch, cfg.NUM_EPOCHS,\n",
    "                                                                                               batch_i,\n",
    "                                                                                               steps_per_epoch,\n",
    "                                                                                               d_loss, \n",
    "                                                                                               g_loss,\n",
    "                                                                                               elapsed_time))\n",
    "    #CGAN\n",
    "    fake_last_frames = modelObj.generator([plot_first_imgs,plot_lables_imgs])\n",
    "\n",
    "    # Train the discriminator with combined loss  \n",
    "\n",
    "    d_loss, g_loss = calculate_loss(modelObj.discriminator,modelObj.generator,plot_last_imgs,\n",
    "                                             plot_lables_imgs,plot_last_imgs,10)\n",
    "    # Train the generator\n",
    "    g_loss = modelObj.combined.evaluate([plot_last_imgs, plot_first_imgs,plot_lables_imgs], [valid, plot_last_imgs],verbose=0)\n",
    "\n",
    "    disc_losses_val.append(d_loss)\n",
    "    generator_losses_val.append(g_loss[0])\n",
    "\n",
    "    left, width = .25, .5\n",
    "    bottom, height = .25, .5\n",
    "    right = left + width\n",
    "    top = bottom + height\n",
    "    rows = 2\n",
    "    fig, axs = plt.subplots(nrows=rows, ncols=4, figsize=(10, 8))\n",
    "    for ax, batch_i in zip(axs, range(rows)):\n",
    "\n",
    "        ax[0].text(0.5*(left+right), 0.5*(bottom+top), epoch + 1,\n",
    "        horizontalalignment='center',\n",
    "        verticalalignment='center',\n",
    "        fontsize=15)\n",
    "        ax[0].axis('off')\n",
    "        for i, img in zip(range(1,4), [[\"First Img\", plot_first_imgs[batch_i]], [\"Last Img\", plot_last_imgs[batch_i]], [\"Fake Last Img\", fake_last_frames[batch_i]]]):\n",
    "            ax[i].imshow(img[1])\n",
    "            if(batch_i == 0):\n",
    "                ax[i].set_title(img[0])\n",
    "            ax[i].axis('auto')\n",
    "\n",
    "\n",
    "    plt.tight_layout()\n",
    "    plt.show()\n",
    "    fig.canvas.draw()       # draw the canvas, cache the renderer\n",
    "    image = np.frombuffer(fig.canvas.tostring_rgb(), dtype='uint8')\n",
    "    image  = image.reshape(fig.canvas.get_width_height()[::-1] + (3,))\n",
    "    plots.append(image)\n",
    "\n",
    "    print(\"=======VALIDATION=======\")\n",
    "    print(\"D loss: {} G loss: {} \".format(d_loss,g_loss[0],g_loss))\n",
    "\n",
    "    \n",
    "imageio.mimsave('./powers.gif', plots, fps=3)"
   ]
  },
  {
   "cell_type": "code",
   "execution_count": null,
   "metadata": {
    "scrolled": false
   },
   "outputs": [],
   "source": [
    "fig = plt.figure(figsize=(10,10))\n",
    "\n",
    "plt.plot(disc_losses_val,label=\"Discriminator Loss\",color=\"b\",linestyle=\"--\",marker='o')\n",
    "plt.title('Discriminator loss')\n",
    "plt.show()\n",
    "\n",
    "fig = plt.figure(figsize=(10,10))\n",
    "plt.plot(disc_accuracies_val_real,label=\"Real\",color=\"b\",linestyle=\"--\",marker='o')\n",
    "plt.plot(disc_accuracies_val_fake,label=\"Fake\",color=\"r\",linestyle=\"--\",marker='o')\n",
    "plt.legend()\n",
    "plt.title('Discriminator Acc')\n",
    "plt.show()\n",
    "\n",
    "\n",
    "fig = plt.figure(figsize=(10,10))\n",
    "plt.plot(generator_losses_val,label=\"Generator Loss\",color=\"r\",linestyle=\"--\",marker='o')\n",
    "plt.title('Generator')\n",
    "plt.show()"
   ]
  },
  {
   "cell_type": "code",
   "execution_count": 343,
   "metadata": {
    "scrolled": false
   },
   "outputs": [
    {
     "data": {
      "image/png": "[encoded data removed]",
      "text/plain": [
       "<Figure size 576x720 with 20 Axes>"
      ]
     },
     "metadata": {
      "needs_background": "light"
     },
     "output_type": "display_data"
    }
   ],
   "source": [
    "rows = 5\n",
    "fig, axs = plt.subplots(nrows=rows, ncols=4, figsize=(8, 2*rows))\n",
    "\n",
    "# build a rectangle in axes coords\n",
    "left, width = .25, .5\n",
    "bottom, height = .25, .5\n",
    "right = left + width\n",
    "top = bottom + height\n",
    "\n",
    "\n",
    "for ax, batch_i in zip(axs, range(rows)):\n",
    "    test_first_imgs, test_last_imgs,test_lables = next(test_batch_generator)\n",
    "    test_lables = label_encoder(test_lables)\n",
    "\n",
    "    test_fake_last_imgs = modelObj.generator.predict([test_first_imgs,test_lables]) \n",
    "    #test_img_name = output_log_dir + \"/gen_img_test_\" + str(batch_i) + \".png\"\n",
    "    #merged_img = np.vstack((test_first_imgs[0],test_last_imgs[0],test_fake_last_imgs[0]))\n",
    "    #imageio.imwrite(test_img_name, img_as_ubyte(merged_img))\n",
    "    ax[0].text(0.5*(left+right), 0.5*(bottom+top), batch_i,\n",
    "    horizontalalignment='center',\n",
    "    verticalalignment='center',\n",
    "    fontsize=15)\n",
    "    ax[0].axis('off')\n",
    "    for i, img in zip(range(1,4), [[\"First Img\", test_first_imgs[0]], [\"Last Img\", test_last_imgs[0]], [\"Fake Last Img\", test_fake_last_imgs[0]]]):\n",
    "        ax[i].imshow(img[1])\n",
    "        if(batch_i == 0):\n",
    "            ax[i].set_title(img[0])\n",
    "        ax[i].axis('auto')\n",
    "\n",
    "\n",
    "plt.tight_layout()\n",
    "plt.show()"
   ]
  },
  {
   "cell_type": "markdown",
   "metadata": {},
   "source": [
    "9) We can test the model with 100 test data which will be saved as images"
   ]
  },
  {
   "cell_type": "code",
   "execution_count": null,
   "metadata": {
    "scrolled": false
   },
   "outputs": [],
   "source": [
    "discriminator_losses = []\n",
    "disc_real_acc = []\n",
    "disc_fake_acc = []\n",
    "discriminator_accuracies = []\n",
    "generator_losses = []\n",
    "for batch_i in range(100):\n",
    "    test_first_imgs, test_last_imgs, test_labels = next(test_batch_generator)\n",
    "    test_labels = mapLabels(test_labels)\n",
    "    test_fake_last_imgs = modelObj.generator.predict([test_first_imgs,test_labels])     \n",
    "    d_loss_real = modelObj.discriminator.train_on_batch([test_last_imgs, test_first_imgs,test_labels], valid)\n",
    "    d_loss_fake = modelObj.discriminator.train_on_batch([test_fake_last_imgs, test_first_imgs,test_labels], fake)\n",
    "    \n",
    "    d_loss = 0.5 * np.add(d_loss_real, d_loss_fake)\n",
    " \n",
    "    # Train the generator\n",
    "    g_loss = modelObj.combined.train_on_batch([test_last_imgs, test_first_imgs,test_labels], [valid, test_last_imgs])\n",
    "    \n",
    "    discriminator_losses.append(d_loss[0])\n",
    "    discriminator_accuracies.append(d_loss[1])\n",
    "    generator_losses.append(g_loss[0])\n",
    "    \n",
    "    disc_real_acc.append(d_loss_real[1])\n",
    "    disc_fake_acc.append(d_loss_fake[1])\n",
    "    #print(d_loss)\n",
    "    \n",
    "    \n",
    "    \n",
    "    #test_img_name = output_log_dir + \"/gen_img_test_\" + str(batch_i) + \".png\"\n",
    "    #merged_img = np.vstack((test_first_imgs[0],test_last_imgs[0],test_fake_last_imgs[0]))\n",
    "    #imageio.imwrite(test_img_name, img_as_ubyte(merged_img))\n",
    "\n",
    "disc_real_accuracy = round(np.array(disc_real_acc).mean(),4)\n",
    "disc_fake_accuracy = round(np.array(disc_fake_acc).mean(),4)\n",
    "\n",
    "print(\"Real Images:{}\".format(disc_real_accuracy))\n",
    "print(\"Fake Images: {}\".format(disc_fake_accuracy))\n",
    "disc_loss = round(np.array(discriminator_losses).mean(),4)\n",
    "disc_acc = round(np.array(discriminator_accuracies).mean(),4)\n",
    "gen_loss = round(np.array(generator_losses).mean(),4)\n",
    "\n",
    "print(\"Discriminator loss: {} ----- Discriminator acc: {} ----- Generator loss: {}\".format(disc_loss,disc_acc,gen_loss))"
   ]
  },
  {
   "cell_type": "markdown",
   "metadata": {},
   "source": [
    "## EXERCISES"
   ]
  },
  {
   "cell_type": "markdown",
   "metadata": {},
   "source": [
    "#### Exercise 1)\n",
    "Update the network architecture given in  **build_generator**  and  **build_discriminator**  of the class GANModel. Please note that the current image resolution is set to 32x32 (i.e. IMAGE_WIDTH and IMAGE_HEIGHT values) in the file configGAN.py. \n",
    "This way initial experiements can run faster. Once you implement the inital version of the network, please set the resolution values back to 128x128. Experimental results should be provided for this high resolution images.  \n",
    "\n",
    "**Hint:** As a generator model, you can use the segmentation model implemented in lab03. Do not forget to adapt the input and output shapes of the generator model in this case."
   ]
  },
  {
   "cell_type": "markdown",
   "metadata": {},
   "source": [
    "#### Exercise 2) \n",
    "Use different **optimization** (e.g. ADAM, SGD, etc) and **regularization** (e.g. data augmentation, dropout) methods to increase the network accuracy. "
   ]
  },
  {
   "cell_type": "code",
   "execution_count": null,
   "metadata": {},
   "outputs": [],
   "source": []
  },
  {
   "cell_type": "code",
   "execution_count": null,
   "metadata": {},
   "outputs": [],
   "source": []
  }
 ],
 "metadata": {
  "kernelspec": {
   "display_name": "Python 3",
   "language": "python",
   "name": "python3"
  },
  "language_info": {
   "codemirror_mode": {
    "name": "ipython",
    "version": 3
   },
   "file_extension": ".py",
   "mimetype": "text/x-python",
   "name": "python",
   "nbconvert_exporter": "python",
   "pygments_lexer": "ipython3",
   "version": "3.8.6"
  }
 },
 "nbformat": 4,
 "nbformat_minor": 4
}
