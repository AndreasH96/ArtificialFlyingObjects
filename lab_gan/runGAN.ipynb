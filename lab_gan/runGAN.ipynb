{
 "cells": [
  {
   "cell_type": "markdown",
   "metadata": {},
   "source": [
    "<h1 style=\"font-size:40px;\"><center>Exercise V:<br> GANs\n",
    "</center></h1>\n",
    "\n",
    "## Short summary\n",
    "In this exercise, we will design a generative network to generate the last rgb image given the first image. These folder has **three files**: \n",
    "- **configGAN.py:** this involves definitions of all parameters and data paths\n",
    "- **utilsGAN.py:** includes utility functions required to grab and visualize data \n",
    "- **runGAN.ipynb:** contains the script to design, train and test the network \n",
    "\n",
    "Make sure that before running this script, you created an environment and **installed all required libraries** such \n",
    "as keras.\n",
    "\n",
    "## The data\n",
    "There exists also a subfolder called **data** which contains the traning, validation, and testing data each has both RGB input images together with the corresponding ground truth images.\n",
    "\n",
    "\n",
    "## The exercises\n",
    "As for the previous lab all exercises are found below.\n",
    "\n",
    "\n",
    "## The different 'Cells'\n",
    "This notebook contains several cells with python code, together with the markdown cells (like this one) with only text. Each of the cells with python code has a \"header\" markdown cell with information about the code. The table below provides a short overview of the code cells. \n",
    "\n",
    "| #  |  CellName | CellType | Comment |\n",
    "| :--- | :-------- | :-------- | :------- |\n",
    "| 1 | Init | Needed | Sets up the environment|\n",
    "| 2 | Ex | Exercise 1| A class definition of a network model  |\n",
    "| 3 | Loading | Needed | Loading parameters and initializing the model |\n",
    "| 4 | Stats | Needed | Show data distribution | \n",
    "| 5 | Data | Needed | Generating the data batches |\n",
    "| 6 | Debug | Needed | Debugging the data |\n",
    "| 7 | Device | Needed | Selecting CPU/GPU |\n",
    "| 8 | Init | Needed | Sets up the timer and other neccessary components |\n",
    "| 9 | Training | Exercise 1-2 | Training the model   |\n",
    "| 10 | Testing | Exercise 1-2| Testing the  method   |  \n",
    "\n",
    "\n",
    "In order for you to start with the exercise you need to run all cells. It is important that you do this in the correct order, starting from the top and continuing with the next cells. Later when you have started to work with the notebook it may be easier to use the command \"Run All\" found in the \"Cell\" dropdown menu.\n",
    "\n",
    "## Writing the report\n",
    "\n",
    "There is no need to provide any report. However, implemented network architecuture and observed experimental results must be presented as a short presentation in the last lecture, May 28."
   ]
  },
  {
   "cell_type": "markdown",
   "metadata": {},
   "source": [
    "1) We first start with importing all required modules"
   ]
  },
  {
   "cell_type": "code",
   "execution_count": 458,
   "metadata": {},
   "outputs": [
    {
     "name": "stdout",
     "output_type": "stream",
     "text": [
      "creating network model using gpu 0\n"
     ]
    }
   ],
   "source": [
    "import os\n",
    "from configGAN import *\n",
    "cfg = flying_objects_config()\n",
    "if cfg.GPU >=0:\n",
    "    print(\"creating network model using gpu \" + str(cfg.GPU))\n",
    "    os.environ['CUDA_VISIBLE_DEVICES'] = str(cfg.GPU)\n",
    "elif cfg.GPU >=-1:\n",
    "    print(\"creating network model using cpu \")  \n",
    "    os.environ[\"CUDA_DEVICE_ORDER\"] = \"PCI_BUS_ID\"   # see issue #152\n",
    "    os.environ[\"CUDA_VISIBLE_DEVICES\"] = \"\"\n",
    "\n",
    "import tensorflow as tf\n",
    "from tensorflow import keras\n",
    "from utilsGAN import *\n",
    "from sklearn.metrics import confusion_matrix\n",
    "# import seaborn as sns\n",
    "from datetime import datetime\n",
    "import imageio\n",
    "from skimage import img_as_ubyte\n",
    "\n",
    "import pprint\n",
    "# import the necessary packages\n",
    "from keras.models import Sequential\n",
    "from keras.layers.normalization import BatchNormalization\n",
    "from keras.layers.convolutional import Conv3D, Conv2D, Conv1D, Convolution2D, Deconvolution2D, Cropping2D, UpSampling2D\n",
    "from keras.layers import Input, Conv2DTranspose, ConvLSTM2D, TimeDistributed\n",
    "from keras.layers.convolutional import MaxPooling2D\n",
    "from keras.layers.core import Activation\n",
    "from keras.layers import Concatenate, concatenate, Reshape\n",
    "from keras.layers.core import Flatten\n",
    "from keras.layers.core import Dropout\n",
    "from keras.layers.core import Dense\n",
    "from keras.preprocessing.image import ImageDataGenerator\n",
    "from keras.optimizers import Adam\n",
    "from keras.models import Model\n",
    "from keras.callbacks import TensorBoard\n",
    "from keras.applications.vgg16 import VGG16, preprocess_input, decode_predictions\n",
    "from keras.layers import Input, merge\n",
    "from keras.regularizers import l2\n",
    "from keras.layers import Input, merge, Convolution2D, MaxPooling2D, UpSampling2D, Reshape, core, Dropout, LeakyReLU\n",
    "import keras.backend as kb\n",
    "\n",
    "from keras.layers import Embedding, LeakyReLU, AveragePooling2D, Conv2DTranspose"
   ]
  },
  {
   "cell_type": "markdown",
   "metadata": {},
   "source": [
    "2) Here, we have the network model class definition. In this class, the most important functions are **build_generator()** and **build_discriminator()**. As defined in the exercises section, your task is to update the both network architectures defined in these functions."
   ]
  },
  {
   "cell_type": "code",
   "execution_count": 459,
   "metadata": {},
   "outputs": [],
   "source": [
    "from tensorflow_addons.losses import SigmoidFocalCrossEntropy\n",
    "class GANModel():\n",
    "    def __init__(self, batch_size=32, inputShape=(64, 64, 3), dropout_prob=0.25): \n",
    "        self.batch_size = batch_size\n",
    "        self.inputShape = inputShape\n",
    "        self.dropout_prob = dropout_prob\n",
    "\n",
    "        # Calculate the shape of patches\n",
    "        patch = int(self.inputShape[0] / 2**4)\n",
    "        self.disc_patch = (patch, patch, 1)\n",
    "  \n",
    "        # Build and compile the discriminator\n",
    "        self.discriminator = self.build_discriminator()\n",
    "        self.discriminator.compile(loss='mse', optimizer=Adam(0.0002, 0.5),metrics=['accuracy'])\n",
    " \n",
    "        # Build the generator\n",
    "        self.generator = self.build_generator()\n",
    "\n",
    "        # Input images and their conditioning images\n",
    "        first_frame = Input(shape=self.inputShape)\n",
    "        last_frame = Input(shape=self.inputShape)\n",
    "\n",
    "        # By conditioning on the first frame generate a fake version of the last frame\n",
    "        fake_last_frame = self.generator(first_frame)\n",
    "\n",
    "        # For the combined model we will only train the generator\n",
    "        self.discriminator.trainable = False\n",
    "        \n",
    "        # Discriminators determines validity of fake and condition first image pairs\n",
    "        valid = self.discriminator([fake_last_frame, first_frame])\n",
    "\n",
    "        self.combined = Model(inputs=[last_frame, first_frame], outputs=[valid, fake_last_frame])\n",
    "        self.combined.compile(loss=['mse', SigmoidFocalCrossEntropy(gamma=2)], # mean squared and mean absolute errors\n",
    "                              loss_weights=[1, 100],\n",
    "                              optimizer=Adam(0.0002, 0.5))\n",
    "\n",
    "    def build_generator(self):\n",
    " \n",
    "        inputs = Input(shape=self.inputShape)\n",
    "        print(inputs.shape)\n",
    " \n",
    "        down1 = Conv2D(32, (3, 3),padding='same')(inputs)\n",
    "        down1 = Activation('relu')(down1) \n",
    "        down1_pool = MaxPooling2D((2, 2), strides=(2, 2))(down1)\n",
    "         \n",
    "        down2 = Conv2D(64, (3, 3), padding='same')(down1_pool)\n",
    "        down2 = Activation('relu')(down2) \n",
    "         \n",
    "\n",
    "        up1 = UpSampling2D((2, 2))(down2)\n",
    "        up1 = concatenate([down1, up1], axis=3)\n",
    "        up1 = Conv2D(256, (3, 3), padding='same')(up1) \n",
    "        up1 = Activation('relu')(up1) \n",
    "        \n",
    "        \n",
    "        up2 = Conv2D(256, (3, 3), padding='same')(up1) \n",
    "        up2 = Activation('relu')(up2) \n",
    "        \n",
    "        nbr_img_channels = self.inputShape[2]\n",
    "        outputs = Conv2D(nbr_img_channels, (1, 1), activation='sigmoid')(up2)\n",
    "\n",
    "        model = Model(inputs=inputs, outputs=outputs, name='Generator')\n",
    "        model.summary()\n",
    "\n",
    "        return model\n",
    "\n",
    "    def build_discriminator(self):\n",
    "  \n",
    "        last_img = Input(shape=self.inputShape)\n",
    "        first_img = Input(shape=self.inputShape)\n",
    "\n",
    "        # Concatenate image and conditioning image by channels to produce input\n",
    "        combined_imgs = Concatenate(axis=-1)([last_img, first_img])\n",
    "  \n",
    "        d1 = Conv2D(32, (3, 3), strides=2, padding='same')(combined_imgs) \n",
    "        d1 = Activation('relu')(d1) \n",
    "        d2 = Conv2D(64, (3, 3), strides=2, padding='same')(d1)\n",
    "        d2 = Activation('relu')(d2) \n",
    "        d3 = Conv2D(128, (3, 3), strides=2, padding='same')(d2)\n",
    "        d3 = Activation('relu')(d3) \n",
    "         \n",
    "        validity = Conv2D(1, (3, 3), strides=2, padding='same')(d3)\n",
    "\n",
    "        model = Model([last_img, first_img], validity)\n",
    "        model.summary()\n",
    "\n",
    "        return model"
   ]
  },
  {
   "cell_type": "code",
   "execution_count": 460,
   "metadata": {},
   "outputs": [],
   "source": [
    "class cGANModel():\n",
    "    def __init__(self, batch_size=32, inputShape=(64, 64, 3), dropout_prob=0.25,num_classes=3): \n",
    "        self.batch_size = batch_size\n",
    "        self.inputShape = inputShape\n",
    "        self.dropout_prob = dropout_prob\n",
    "\n",
    "        # Calculate the shape of patches\n",
    "        patch = int(self.inputShape[0] / 2**4)\n",
    "        self.disc_patch = (patch, patch, 1)\n",
    "  \n",
    "        # Build and compile the discriminator\n",
    "        self.discriminator = self.build_discriminator(num_classes,dropout_prob)\n",
    "        self.discriminator.compile(loss='mse', optimizer=Adam(0.0002, 0.5),metrics=['accuracy'])\n",
    " \n",
    "        # Build the generator\n",
    "        self.generator = self.build_generator(num_classes)\n",
    "\n",
    "        # Input images and their conditioning images\n",
    "        first_frame = Input(shape=self.inputShape)\n",
    "        last_frame = Input(shape=self.inputShape)\n",
    "        frame_labels = Input(shape=(1,))\n",
    "        \n",
    "        # By conditioning on the first frame generate a fake version of the last frame\n",
    "        fake_last_frame = self.generator([first_frame,frame_labels])\n",
    "        # For the combined model we will only train the generator\n",
    "        self.discriminator.trainable = False\n",
    "        \n",
    "        # Discriminators determines validity of fake and condition first image pairs\n",
    "        valid = self.discriminator([fake_last_frame, first_frame,frame_labels])\n",
    "\n",
    "        self.combined = Model(inputs=[last_frame, first_frame,frame_labels], outputs=[valid, fake_last_frame])\n",
    "        self.combined.compile(loss=['mse', 'mae'], # mean squared and mean absolute errors\n",
    "                              loss_weights=[1, 100],\n",
    "                              optimizer=Adam(0.0002, 0.5),metrics=['accuracy'])\n",
    "\n",
    "    def build_generator(self,num_classes):\n",
    " \n",
    "        inputs = Input(shape=self.inputShape)\n",
    "        \n",
    "        n_nodes = self.inputShape[0] * self.inputShape[1]\n",
    "        \n",
    "        label_input = Input(shape=(1,))\n",
    "        label_embedding = Embedding(num_classes,3)(label_input)\n",
    "        \n",
    "        label_embedding = Dense(n_nodes)(label_embedding)\n",
    "        label_embedding = Reshape((self.inputShape[0],self.inputShape[1],1))(label_embedding)\n",
    "        inputs_embedded = Concatenate(axis=-1)([inputs,label_embedding])\n",
    "        \n",
    "        activation_fun = LeakyReLU(alpha=0.1)\n",
    "        \n",
    "        \n",
    "        \n",
    "        \n",
    "        \n",
    "        down1 = Conv2D(32, (5, 5),padding='same')(inputs_embedded)\n",
    "        down1=BatchNormalization(1)(down1)\n",
    "        #down1.add(BatchNormalization(1))\n",
    "        down1 = Activation(activation_fun)(down1) \n",
    "        down1 = Dropout(self.dropout_prob)(down1)\n",
    "        #down1_pool = MaxPooling2D((2, 2), strides=(2, 2))(down1)\n",
    "        down1_pool = AveragePooling2D((2, 2), strides=(2, 2))(down1)\n",
    "        \n",
    "        down2 = Conv2D(64, (3, 3), padding='same')(down1_pool)\n",
    "        down2=BatchNormalization(1)(down2)\n",
    "        down2 = Activation(activation_fun)(down2) \n",
    "        down2_pool = AveragePooling2D((2, 2), strides=(2, 2))(down2)\n",
    "        down2 = Dropout(self.dropout_prob)(down2)\n",
    "\n",
    "        \n",
    "        up1 = UpSampling2D((2, 2))(down2_pool)\n",
    "        up1 = concatenate([down2, up1], axis=3)\n",
    "        up1 = Conv2D(256, (3, 3), padding='same')(up1) \n",
    "        up1 = Activation(activation_fun)(up1) \n",
    "        up1 = Dropout(self.dropout_prob)(up1)\n",
    "        \n",
    "        up2 = UpSampling2D((2, 2))(up1)\n",
    "        up2 = concatenate([down1, up2], axis=3)\n",
    "        up2 = Conv2D(256, (3, 3), padding='same')(up2) \n",
    "        up2 = Activation(activation_fun)(up2) \n",
    "        up2 = Dropout(self.dropout_prob)(up2)\n",
    "        \n",
    "        \n",
    "        nbr_img_channels = self.inputShape[2]\n",
    "        outputs = Conv2D(nbr_img_channels, (1, 1), activation='sigmoid')(up2)\n",
    "        \n",
    "        model = Model([inputs,label_input], outputs)\n",
    "        model.summary()\n",
    "        return model\n",
    "\n",
    "    def build_discriminator(self,num_classes,dropout_prob):\n",
    "  \n",
    "        last_img = Input(shape=self.inputShape)\n",
    "        first_img = Input(shape=self.inputShape)\n",
    "        n_nodes = self.inputShape[0] * self.inputShape[1]\n",
    "        \n",
    "        labelInput = Input(shape=(1,))\n",
    "        label_embedding = Embedding(num_classes,3)(labelInput)\n",
    "        \n",
    "        label_embedding = Dense(n_nodes)(label_embedding)\n",
    "        label_embedding = Reshape((self.inputShape[0],self.inputShape[1],1))(label_embedding)\n",
    "\n",
    "        # Concatenate image and conditioning image by channels to produce input\n",
    "        combined_imgs = Concatenate(axis=-1)([last_img, first_img,label_embedding])\n",
    "\n",
    "\n",
    "        \n",
    "        \n",
    "#         activation_fun = 'relu'\n",
    "#         down1 = Conv2D(16,(3,3),padding='same',activation=activation_fun, kernel_initializer=\"he_normal\")(combined_imgs)\n",
    "#         down1 = Conv2D(16,(3,3),padding='same',activation=activation_fun, kernel_initializer=\"he_normal\")(down1)\n",
    "#         down1=BatchNormalization(1)(down1)\n",
    "#         #down1 = Dropout(0.2)(down1)\n",
    "#         down1_pool = AveragePooling2D((2, 2), strides=(2, 2))(down1)\n",
    "        \n",
    "#         down2 = Conv2D(32,(3,3),padding='same',activation=activation_fun, kernel_initializer=\"he_normal\")(down1_pool)\n",
    "#         down2 = Conv2D(32,(3,3),padding='same',activation=activation_fun, kernel_initializer=\"he_normal\")(down2)\n",
    "#         down2=BatchNormalization(1)(down2)\n",
    "#         #drop2 = Dropout(0.2)(down2)\n",
    "#         down2_pool = AveragePooling2D((2, 2), strides=(2, 2))(down2)\n",
    "        \n",
    "#         down3 = Conv2D(64,(3,3),padding='same',activation=activation_fun, kernel_initializer=\"he_normal\")(down2_pool)\n",
    "#         down3 = Conv2D(64,(3,3),padding='same',activation=activation_fun, kernel_initializer=\"he_normal\")(down3)\n",
    "#         down3_pool = AveragePooling2D((2, 2), strides=(2, 2))(down3)\n",
    "        #drop3 = Dropout(0.2)(down3_pool)\n",
    "\n",
    "        #classify = Conv2D(1, (1, 1), activation='sigmoid')(up5)\n",
    "\n",
    "        d1 = Conv2D(32, (3, 3), strides=2, padding='same')(combined_imgs) \n",
    "        d1 = Activation('relu')(d1) \n",
    "        drop1 = Dropout(dropout_prob)(d1)\n",
    "        d2 = Conv2D(64, (3, 3), strides=2, padding='same')(drop1)\n",
    "        d2 = Activation('relu')(d2) \n",
    "        drop2 = Dropout(dropout_prob)(d2)\n",
    "        d3 = Conv2D(128, (3, 3), strides=2, padding='same')(drop2)\n",
    "        d3 = Activation('relu')(d3) \n",
    "         \n",
    "        validity = Conv2D(1, (3, 3), strides=2, padding='same')(d3)\n",
    "        #print(validity.shape)\n",
    "        model = Model([last_img, first_img,labelInput], validity)\n",
    "        #model.summary()\n",
    "\n",
    "        return model"
   ]
  },
  {
   "cell_type": "markdown",
   "metadata": {},
   "source": [
    "3) We import the network **hyperparameters** and build a simple network by calling the class introduced in the previous step. Please note that to change the hyperparameters, you just need to change the values in the file called **configPredictor.py.**"
   ]
  },
  {
   "cell_type": "code",
   "execution_count": 461,
   "metadata": {
    "scrolled": false
   },
   "outputs": [
    {
     "name": "stdout",
     "output_type": "stream",
     "text": [
      "Model: \"functional_257\"\n",
      "__________________________________________________________________________________________________\n",
      "Layer (type)                    Output Shape         Param #     Connected to                     \n",
      "==================================================================================================\n",
      "input_361 (InputLayer)          [(None, 1)]          0                                            \n",
      "__________________________________________________________________________________________________\n",
      "embedding_60 (Embedding)        (None, 1, 3)         9           input_361[0][0]                  \n",
      "__________________________________________________________________________________________________\n",
      "dense_60 (Dense)                (None, 1, 1024)      4096        embedding_60[0][0]               \n",
      "__________________________________________________________________________________________________\n",
      "input_360 (InputLayer)          [(None, 32, 32, 3)]  0                                            \n",
      "__________________________________________________________________________________________________\n",
      "reshape_60 (Reshape)            (None, 32, 32, 1)    0           dense_60[0][0]                   \n",
      "__________________________________________________________________________________________________\n",
      "concatenate_151 (Concatenate)   (None, 32, 32, 4)    0           input_360[0][0]                  \n",
      "                                                                 reshape_60[0][0]                 \n",
      "__________________________________________________________________________________________________\n",
      "conv2d_631 (Conv2D)             (None, 32, 32, 32)   3232        concatenate_151[0][0]            \n",
      "__________________________________________________________________________________________________\n",
      "batch_normalization_158 (BatchN (None, 32, 32, 32)   128         conv2d_631[0][0]                 \n",
      "__________________________________________________________________________________________________\n",
      "activation_315 (Activation)     (None, 32, 32, 32)   0           batch_normalization_158[0][0]    \n",
      "__________________________________________________________________________________________________\n",
      "dropout_134 (Dropout)           (None, 32, 32, 32)   0           activation_315[0][0]             \n",
      "__________________________________________________________________________________________________\n",
      "average_pooling2d_81 (AveragePo (None, 16, 16, 32)   0           dropout_134[0][0]                \n",
      "__________________________________________________________________________________________________\n",
      "conv2d_632 (Conv2D)             (None, 16, 16, 64)   18496       average_pooling2d_81[0][0]       \n",
      "__________________________________________________________________________________________________\n",
      "batch_normalization_159 (BatchN (None, 16, 16, 64)   64          conv2d_632[0][0]                 \n",
      "__________________________________________________________________________________________________\n",
      "activation_316 (Activation)     (None, 16, 16, 64)   0           batch_normalization_159[0][0]    \n",
      "__________________________________________________________________________________________________\n",
      "average_pooling2d_82 (AveragePo (None, 8, 8, 64)     0           activation_316[0][0]             \n",
      "__________________________________________________________________________________________________\n",
      "dropout_135 (Dropout)           (None, 16, 16, 64)   0           activation_316[0][0]             \n",
      "__________________________________________________________________________________________________\n",
      "up_sampling2d_55 (UpSampling2D) (None, 16, 16, 64)   0           average_pooling2d_82[0][0]       \n",
      "__________________________________________________________________________________________________\n",
      "concatenate_152 (Concatenate)   (None, 16, 16, 128)  0           dropout_135[0][0]                \n",
      "                                                                 up_sampling2d_55[0][0]           \n",
      "__________________________________________________________________________________________________\n",
      "conv2d_633 (Conv2D)             (None, 16, 16, 256)  295168      concatenate_152[0][0]            \n",
      "__________________________________________________________________________________________________\n",
      "activation_317 (Activation)     (None, 16, 16, 256)  0           conv2d_633[0][0]                 \n",
      "__________________________________________________________________________________________________\n",
      "dropout_136 (Dropout)           (None, 16, 16, 256)  0           activation_317[0][0]             \n",
      "__________________________________________________________________________________________________\n",
      "up_sampling2d_56 (UpSampling2D) (None, 32, 32, 256)  0           dropout_136[0][0]                \n",
      "__________________________________________________________________________________________________\n",
      "concatenate_153 (Concatenate)   (None, 32, 32, 288)  0           dropout_134[0][0]                \n",
      "                                                                 up_sampling2d_56[0][0]           \n",
      "__________________________________________________________________________________________________\n",
      "conv2d_634 (Conv2D)             (None, 32, 32, 256)  663808      concatenate_153[0][0]            \n",
      "__________________________________________________________________________________________________\n",
      "activation_318 (Activation)     (None, 32, 32, 256)  0           conv2d_634[0][0]                 \n",
      "__________________________________________________________________________________________________\n",
      "dropout_137 (Dropout)           (None, 32, 32, 256)  0           activation_318[0][0]             \n",
      "__________________________________________________________________________________________________\n",
      "conv2d_635 (Conv2D)             (None, 32, 32, 3)    771         dropout_137[0][0]                \n",
      "==================================================================================================\n",
      "Total params: 985,772\n",
      "Trainable params: 985,676\n",
      "Non-trainable params: 96\n",
      "__________________________________________________________________________________________________\n"
     ]
    }
   ],
   "source": [
    "image_shape = (cfg.IMAGE_HEIGHT, cfg.IMAGE_WIDTH, cfg.IMAGE_CHANNEL)\n",
    "#image_shape = (64, 64, cfg.IMAGE_CHANNEL)\n",
    "modelObj = cGANModel(batch_size=cfg.BATCH_SIZE, inputShape=image_shape,\n",
    "                                 dropout_prob=cfg.DROPOUT_PROB)"
   ]
  },
  {
   "cell_type": "markdown",
   "metadata": {},
   "source": [
    "4) We call the utility function **show_statistics** to display the data distribution. This is just for debugging purpose."
   ]
  },
  {
   "cell_type": "code",
   "execution_count": 462,
   "metadata": {},
   "outputs": [
    {
     "name": "stdout",
     "output_type": "stream",
     "text": [
      "\n",
      "######################################################################\n",
      "##################### Training Data Statistics #####################\n",
      "######################################################################\n",
      "total image number \t 10817\n",
      "total class number \t 3\n",
      "class square \t 3488 images\n",
      "class triangle \t 3703 images\n",
      "class circular \t 3626 images\n",
      "######################################################################\n",
      "\n",
      "######################################################################\n",
      "##################### Validation Data Statistics #####################\n",
      "######################################################################\n",
      "total image number \t 2241\n",
      "total class number \t 3\n",
      "class circular \t 713 images\n",
      "class square \t 783 images\n",
      "class triangle \t 745 images\n",
      "######################################################################\n",
      "\n",
      "######################################################################\n",
      "##################### Testing Data Statistics #####################\n",
      "######################################################################\n",
      "total image number \t 2220\n",
      "total class number \t 3\n",
      "class circular \t 722 images\n",
      "class square \t 765 images\n",
      "class triangle \t 733 images\n",
      "######################################################################\n"
     ]
    }
   ],
   "source": [
    "#### show how the data looks like\n",
    "show_statistics(cfg.training_data_dir, fineGrained=False, title=\" Training Data Statistics \")\n",
    "show_statistics(cfg.validation_data_dir, fineGrained=False, title=\" Validation Data Statistics \")\n",
    "show_statistics(cfg.testing_data_dir, fineGrained=False, title=\" Testing Data Statistics \")"
   ]
  },
  {
   "cell_type": "markdown",
   "metadata": {},
   "source": [
    "5) We now create batch generators to get small batches from the entire dataset. There is no need to change these functions as they already return **normalized inputs as batches**."
   ]
  },
  {
   "cell_type": "code",
   "execution_count": 463,
   "metadata": {},
   "outputs": [
    {
     "name": "stdout",
     "output_type": "stream",
     "text": [
      "Data batch generators are created!\n"
     ]
    }
   ],
   "source": [
    "nbr_train_data = get_dataset_size(cfg.training_data_dir)\n",
    "nbr_valid_data = get_dataset_size(cfg.validation_data_dir)\n",
    "nbr_test_data = get_dataset_size(cfg.testing_data_dir)\n",
    "train_batch_generator = generate_lastframepredictor_batches(cfg.training_data_dir, image_shape, cfg.BATCH_SIZE)\n",
    "valid_batch_generator = generate_lastframepredictor_batches(cfg.validation_data_dir, image_shape, cfg.BATCH_SIZE)\n",
    "test_batch_generator = generate_lastframepredictor_batches(cfg.testing_data_dir, image_shape, cfg.BATCH_SIZE)\n",
    "print(\"Data batch generators are created!\")"
   ]
  },
  {
   "cell_type": "code",
   "execution_count": 464,
   "metadata": {},
   "outputs": [],
   "source": [
    "def mapLabels(labels):\n",
    "    classes = ['triangle','square','circular']\n",
    "    return np.array(list((map(lambda x : classes.index(x),labels))))\n"
   ]
  },
  {
   "cell_type": "markdown",
   "metadata": {},
   "source": [
    "6) We can visualize how the data looks like for debugging purpose"
   ]
  },
  {
   "cell_type": "code",
   "execution_count": 465,
   "metadata": {},
   "outputs": [
    {
     "name": "stdout",
     "output_type": "stream",
     "text": [
      "train_x (30, 32, 32, 3) float32 0.0 1.0\n",
      "train_y (30, 32, 32, 3) float32 0.0 1.0\n"
     ]
    },
    {
     "data": {
      "image/png": "[encoded data removed]",
      "text/plain": [
       "<Figure size 720x720 with 12 Axes>"
      ]
     },
     "metadata": {},
     "output_type": "display_data"
    },
    {
     "name": "stdout",
     "output_type": "stream",
     "text": [
      "{'BATCH_SIZE': 30,\n",
      " 'DATA_AUGMENTATION': True,\n",
      " 'DEBUG_MODE': True,\n",
      " 'DROPOUT_PROB': 0.5,\n",
      " 'GPU': 0,\n",
      " 'IMAGE_CHANNEL': 3,\n",
      " 'IMAGE_HEIGHT': 32,\n",
      " 'IMAGE_WIDTH': 32,\n",
      " 'LEARNING_RATE': 0.01,\n",
      " 'LR_DECAY_FACTOR': 0.1,\n",
      " 'NUM_EPOCHS': 5,\n",
      " 'PRINT_EVERY': 20,\n",
      " 'SAVE_EVERY': 1,\n",
      " 'SEQUENCE_LENGTH': 10,\n",
      " 'testing_data_dir': '../data/FlyingObjectDataset_10K/testing',\n",
      " 'training_data_dir': '../data/FlyingObjectDataset_10K/training',\n",
      " 'validation_data_dir': '../data/FlyingObjectDataset_10K/validation'}\n"
     ]
    }
   ],
   "source": [
    "if cfg.DEBUG_MODE:\n",
    "    t_x, t_y,_ = next(train_batch_generator)\n",
    "    print('train_x', t_x.shape, t_x.dtype, t_x.min(), t_x.max())\n",
    "    print('train_y', t_y.shape, t_y.dtype, t_y.min(), t_y.max()) \n",
    "    plot_sample_lastframepredictor_data_with_groundtruth(t_x, t_y, t_y)\n",
    "    pprint.pprint (cfg)"
   ]
  },
  {
   "cell_type": "markdown",
   "metadata": {},
   "source": [
    "7) Start timer and init matrices"
   ]
  },
  {
   "cell_type": "code",
   "execution_count": 466,
   "metadata": {},
   "outputs": [],
   "source": [
    "start_time = datetime.now()\n",
    "# Adversarial loss ground truths\n",
    "valid = np.ones((cfg.BATCH_SIZE,) + modelObj.disc_patch)\n",
    "fake = np.zeros((cfg.BATCH_SIZE,) + modelObj.disc_patch)\n",
    "# log file\n",
    "output_log_dir = \"./logs/{}\".format(datetime.now().strftime(\"%Y%m%d-%H%M%S\"))\n",
    "if not os.path.exists(output_log_dir):\n",
    "    os.makedirs(output_log_dir)"
   ]
  },
  {
   "cell_type": "markdown",
   "metadata": {},
   "source": [
    "8) We can now feed the training and validation data to the network. This will train the network for **some epochs**. Note that the epoch number is also predefined in the file called **configGAN.py.**"
   ]
  },
  {
   "cell_type": "code",
   "execution_count": null,
   "metadata": {
    "scrolled": false
   },
   "outputs": [
    {
     "name": "stdout",
     "output_type": "stream",
     "text": [
      "=====RUN 1 of 5=====\n"
     ]
    },
    {
     "data": {
      "application/vnd.jupyter.widget-view+json": {
       "model_id": "3cc44703b4824612b3e9d6aec2a4099b",
       "version_major": 2,
       "version_minor": 0
      },
      "text/plain": [
       "HBox(children=(HTML(value=''), FloatProgress(value=0.0, max=360.0), HTML(value='')))"
      ]
     },
     "metadata": {},
     "output_type": "display_data"
    },
    {
     "name": "stdout",
     "output_type": "stream",
     "text": [
      "[Epoch 0/5] [Batch 1/360] [D loss: 0.210098] [G loss: 2.500028] time: 0:09:47.640142\n",
      "[Epoch 0/5] [Batch 90/360] [D loss: 0.217181] [G loss: 2.248389] time: 0:09:55.637368\n",
      "[Epoch 0/5] [Batch 180/360] [D loss: 0.206418] [G loss: 2.028814] time: 0:10:03.812514\n",
      "[Epoch 0/5] [Batch 270/360] [D loss: 0.215741] [G loss: 2.259235] time: 0:10:12.041357\n",
      "[Epoch 0/5] [Batch 358/360] [D loss: 0.201749] [G loss: 1.866283] time: 0:10:20.069420\n",
      "\n"
     ]
    },
    {
     "data": {
      "image/png": "[encoded data removed]",
      "text/plain": [
       "<Figure size 720x576 with 8 Axes>"
      ]
     },
     "metadata": {
      "needs_background": "light"
     },
     "output_type": "display_data"
    },
    {
     "name": "stdout",
     "output_type": "stream",
     "text": [
      "=======VALIDATION=======\n",
      "D loss: 0.20356643944978714 D acc: 0.6583333313465118 G loss 2.1278207302093506\n",
      "D acc Real: 0.4416666626930237 D acc Fake: 0.875\n",
      "=====RUN 2 of 5=====\n"
     ]
    },
    {
     "data": {
      "application/vnd.jupyter.widget-view+json": {
       "model_id": "432bf8b1b6114a2eb56e918215e3f89b",
       "version_major": 2,
       "version_minor": 0
      },
      "text/plain": [
       "HBox(children=(HTML(value=''), FloatProgress(value=0.0, max=360.0), HTML(value='')))"
      ]
     },
     "metadata": {},
     "output_type": "display_data"
    },
    {
     "name": "stdout",
     "output_type": "stream",
     "text": [
      "[Epoch 1/5] [Batch 1/360] [D loss: 0.185658] [G loss: 2.309918] time: 0:10:20.933530\n",
      "[Epoch 1/5] [Batch 90/360] [D loss: 0.214514] [G loss: 2.087348] time: 0:10:28.993195\n",
      "[Epoch 1/5] [Batch 180/360] [D loss: 0.215657] [G loss: 1.976250] time: 0:10:37.201966\n",
      "[Epoch 1/5] [Batch 270/360] [D loss: 0.188291] [G loss: 2.045884] time: 0:10:45.435767\n",
      "[Epoch 1/5] [Batch 358/360] [D loss: 0.216995] [G loss: 2.032148] time: 0:10:53.467484\n",
      "\n"
     ]
    },
    {
     "data": {
      "image/png": "[encoded data removed]",
      "text/plain": [
       "<Figure size 720x576 with 8 Axes>"
      ]
     },
     "metadata": {
      "needs_background": "light"
     },
     "output_type": "display_data"
    },
    {
     "name": "stdout",
     "output_type": "stream",
     "text": [
      "=======VALIDATION=======\n",
      "D loss: 0.19309240579605103 D acc: 0.675000011920929 G loss 2.559147357940674\n",
      "D acc Real: 0.4416666626930237 D acc Fake: 0.9083333611488342\n",
      "=====RUN 3 of 5=====\n"
     ]
    },
    {
     "data": {
      "application/vnd.jupyter.widget-view+json": {
       "model_id": "a53ba5b9d3c04e579d389a36fdb497e5",
       "version_major": 2,
       "version_minor": 0
      },
      "text/plain": [
       "HBox(children=(HTML(value=''), FloatProgress(value=0.0, max=360.0), HTML(value='')))"
      ]
     },
     "metadata": {},
     "output_type": "display_data"
    },
    {
     "name": "stdout",
     "output_type": "stream",
     "text": [
      "[Epoch 2/5] [Batch 1/360] [D loss: 0.184475] [G loss: 2.617390] time: 0:10:54.324207\n",
      "[Epoch 2/5] [Batch 90/360] [D loss: 0.233790] [G loss: 1.873023] time: 0:11:02.327615\n",
      "[Epoch 2/5] [Batch 180/360] [D loss: 0.211669] [G loss: 1.742986] time: 0:11:10.777553\n",
      "[Epoch 2/5] [Batch 270/360] [D loss: 0.213761] [G loss: 2.050454] time: 0:11:19.127143\n",
      "[Epoch 2/5] [Batch 358/360] [D loss: 0.214672] [G loss: 1.616821] time: 0:11:27.273608\n",
      "\n"
     ]
    },
    {
     "data": {
      "image/png": "[encoded data removed]",
      "text/plain": [
       "<Figure size 720x576 with 8 Axes>"
      ]
     },
     "metadata": {
      "needs_background": "light"
     },
     "output_type": "display_data"
    },
    {
     "name": "stdout",
     "output_type": "stream",
     "text": [
      "=======VALIDATION=======\n",
      "D loss: 0.20340560376644135 D acc: 0.6291666775941849 G loss 2.5229547023773193\n",
      "D acc Real: 0.4000000059604645 D acc Fake: 0.8583333492279053\n",
      "=====RUN 4 of 5=====\n"
     ]
    },
    {
     "data": {
      "application/vnd.jupyter.widget-view+json": {
       "model_id": "0a3043bd023b4322ba0b15e52d2e9ef7",
       "version_major": 2,
       "version_minor": 0
      },
      "text/plain": [
       "HBox(children=(HTML(value=''), FloatProgress(value=0.0, max=360.0), HTML(value='')))"
      ]
     },
     "metadata": {},
     "output_type": "display_data"
    },
    {
     "name": "stdout",
     "output_type": "stream",
     "text": [
      "[Epoch 3/5] [Batch 1/360] [D loss: 0.199090] [G loss: 2.086980] time: 0:11:28.131446\n",
      "[Epoch 3/5] [Batch 90/360] [D loss: 0.239642] [G loss: 2.089307] time: 0:11:36.220496\n",
      "[Epoch 3/5] [Batch 180/360] [D loss: 0.205659] [G loss: 2.446580] time: 0:11:44.456546\n",
      "[Epoch 3/5] [Batch 270/360] [D loss: 0.244746] [G loss: 1.807195] time: 0:11:52.825867\n",
      "[Epoch 3/5] [Batch 358/360] [D loss: 0.223567] [G loss: 2.069618] time: 0:12:00.766094\n",
      "\n"
     ]
    },
    {
     "data": {
      "image/png": "[encoded data removed]",
      "text/plain": [
       "<Figure size 720x576 with 8 Axes>"
      ]
     },
     "metadata": {
      "needs_background": "light"
     },
     "output_type": "display_data"
    },
    {
     "name": "stdout",
     "output_type": "stream",
     "text": [
      "=======VALIDATION=======\n",
      "D loss: 0.2029559537768364 D acc: 0.6458333283662796 G loss 2.0924413204193115\n",
      "D acc Real: 0.46666666865348816 D acc Fake: 0.824999988079071\n",
      "=====RUN 5 of 5=====\n"
     ]
    },
    {
     "data": {
      "application/vnd.jupyter.widget-view+json": {
       "model_id": "b3ac11de3b3b4ccbbe3f0eb3114b3e3a",
       "version_major": 2,
       "version_minor": 0
      },
      "text/plain": [
       "HBox(children=(HTML(value=''), FloatProgress(value=0.0, max=360.0), HTML(value='')))"
      ]
     },
     "metadata": {},
     "output_type": "display_data"
    },
    {
     "name": "stdout",
     "output_type": "stream",
     "text": [
      "[Epoch 4/5] [Batch 1/360] [D loss: 0.183400] [G loss: 2.083890] time: 0:12:01.616064\n"
     ]
    }
   ],
   "source": [
    "from tqdm.notebook import tqdm, trange\n",
    "import imageio \n",
    "test_first_imgs, test_last_imgs,test_labels = next(test_batch_generator)\n",
    "plot_first_imgs, plot_last_imgs, plot_lables_imgs = next(valid_batch_generator)\n",
    "plot_lables_imgs = mapLabels(plot_labels_imgs)\n",
    "disc_losses_val = []\n",
    "generator_losses_val = []\n",
    "disc_accuracies_val_fake = []\n",
    "disc_accuracies_val_real = []\n",
    "conditional = True\n",
    "plot_epoch = False\n",
    "plots = []\n",
    "for epoch in range(cfg.NUM_EPOCHS):\n",
    "    print(\"=====RUN {} of {}=====\".format(epoch+1,cfg.NUM_EPOCHS))\n",
    "    steps_per_epoch = (nbr_train_data // cfg.BATCH_SIZE) \n",
    "    for batch_i in trange(steps_per_epoch):\n",
    "        first_frames, last_frames, image_labels = next(train_batch_generator)\n",
    "        if first_frames.shape[0] == cfg.BATCH_SIZE: \n",
    "            #print(first_frames.shape)\n",
    "            \n",
    "            image_labels = mapLabels(image_labels)\n",
    "            \n",
    "            # Condition on the first frame and generate the last frame\n",
    "            if(conditional == False):\n",
    "                #GAN\n",
    "                fake_last_frames = modelObj.generator.predict(first_frames)\n",
    "\n",
    "\n",
    "                # Train the discriminator with combined loss  \n",
    "                d_loss_real = modelObj.discriminator.train_on_batch([last_frames, first_frames], valid)\n",
    "                d_loss_fake = modelObj.discriminator.train_on_batch([fake_last_frames, first_frames], fake)\n",
    "                d_loss = 0.5 * np.add(d_loss_real, d_loss_fake)\n",
    "\n",
    "                # Train the generator\n",
    "                g_loss = modelObj.combined.train_on_batch([last_frames, first_frames], [valid, last_frames])\n",
    "\n",
    "                \n",
    "            else:\n",
    "                #CGAN\n",
    "                fake_last_frames = modelObj.generator.predict([first_frames,image_labels])\n",
    "\n",
    "\n",
    "                # Train the discriminator with combined loss  \n",
    "                d_loss_real = modelObj.discriminator.train_on_batch([last_frames, first_frames,image_labels], valid)\n",
    "                d_loss_fake = modelObj.discriminator.train_on_batch([fake_last_frames, first_frames,image_labels], fake)\n",
    "                d_loss = 0.5 * np.add(d_loss_real, d_loss_fake)\n",
    "\n",
    "                # Train the generator\n",
    "                g_loss = modelObj.combined.train_on_batch([last_frames, first_frames,image_labels], [valid, last_frames])            \n",
    "\n",
    "            \n",
    "            \n",
    "            \n",
    "            \n",
    "\n",
    "\n",
    "            elapsed_time = datetime.now() - start_time \n",
    "        #print(d_loss)\n",
    "            if  batch_i in [1,90,180,270,358]:\n",
    "                #disc_losses_train.append(d_loss[0])\n",
    "                #generator_losses_train.append(g_loss[0])\n",
    "                print (\"[Epoch %d/%d] [Batch %d/%d] [D loss: %f] [G loss: %f] time: %s\" % (epoch, cfg.NUM_EPOCHS,\n",
    "                                                                                               batch_i,\n",
    "                                                                                               steps_per_epoch,\n",
    "                                                                                               d_loss[0], \n",
    "                                                                                               g_loss[0],\n",
    "                                                                                               elapsed_time))\n",
    "    first_frames, last_frames, image_labels = next(valid_batch_generator)\n",
    "    image_labels = mapLabels(image_labels)\n",
    "    \n",
    "    if(conditional == False):\n",
    "        #GAN\n",
    "        fake_last_frames = modelObj.generator.predict(first_frames)\n",
    "\n",
    "\n",
    "        # Train the discriminator with combined loss  \n",
    "        d_loss_real = modelObj.discriminator.train_on_batch([last_frames, first_frames], valid)\n",
    "        d_loss_fake = modelObj.discriminator.train_on_batch([fake_last_frames, first_frames], fake)\n",
    "        d_loss = 0.5 * np.add(d_loss_real, d_loss_fake)\n",
    "\n",
    "        # Train the generator\n",
    "        g_loss = modelObj.combined.train_on_batch([last_frames, first_frames], [valid, last_frames])\n",
    "        \n",
    "        disc_accuracies_val_fake.append(d_loss_fake[1])\n",
    "        disc_accuracies_val_real.append(d_loss_real[1])\n",
    "        disc_losses_val.append(d_loss[0])\n",
    "        generator_losses_val.append(g_loss[0])\n",
    "        \n",
    "        \n",
    "        \n",
    "        \n",
    "        fake_last_plotFrames = modelObj.generator.predict(plot_first_imgs)\n",
    "        fig, ax = plt.subplots(nrows=1, ncols=4, figsize=(10, 4))\n",
    "        ax[0].text(0.5*(left+right), 0.5*(bottom+top), epoch + 1,\n",
    "        horizontalalignment='center',\n",
    "        verticalalignment='center',\n",
    "        fontsize=15)\n",
    "        ax[0].axis('off')\n",
    "        for i, img in zip(range(1,4), [[\"First Img\", plot_first_imgs[0]], [\"Last Img\", plot_last_imgs[0]], [\"Fake Last Img\", fake_last_plotFrames[0]]]):\n",
    "            ax[i].imshow(img[1])\n",
    "            if(batch_i == 0):\n",
    "                ax[i].set_title(img[0])\n",
    "            ax[i].axis('auto')\n",
    "\n",
    "\n",
    "        plt.tight_layout()\n",
    "        plt.show()\n",
    "\n",
    "        \n",
    "    else:\n",
    "        #CGAN\n",
    "        fake_last_frames = modelObj.generator.predict([first_frames,image_labels])\n",
    "\n",
    "\n",
    "        # Train the discriminator with combined loss  \n",
    "        d_loss_real = modelObj.discriminator.train_on_batch([last_frames, first_frames,image_labels], valid)\n",
    "        d_loss_fake = modelObj.discriminator.train_on_batch([fake_last_frames, first_frames,image_labels], fake)\n",
    "        d_loss = 0.5 * np.add(d_loss_real, d_loss_fake)\n",
    "\n",
    "        # Train the generator\n",
    "        g_loss = modelObj.combined.train_on_batch([last_frames, first_frames,image_labels], [valid, last_frames])\n",
    "        \n",
    "        disc_accuracies_val_fake.append(d_loss_fake[1])\n",
    "        disc_accuracies_val_real.append(d_loss_real[1])\n",
    "        disc_losses_val.append(d_loss[0])\n",
    "        generator_losses_val.append(g_loss[0])\n",
    "        \n",
    "        \n",
    "        fake_last_plotFrames = modelObj.generator.predict([plot_first_imgs,plot_lables_imgs])\n",
    "        rows = 2\n",
    "        fig, axs = plt.subplots(nrows=rows, ncols=4, figsize=(10, 8))\n",
    "        for ax, batch_i in zip(axs, range(rows)):\n",
    "\n",
    "            ax[0].text(0.5*(left+right), 0.5*(bottom+top), epoch + 1,\n",
    "            horizontalalignment='center',\n",
    "            verticalalignment='center',\n",
    "            fontsize=15)\n",
    "            ax[0].axis('off')\n",
    "            for i, img in zip(range(1,4), [[\"First Img\", plot_first_imgs[batch_i]], [\"Last Img\", plot_last_imgs[batch_i]], [\"Fake Last Img\", fake_last_plotFrames[batch_i]]]):\n",
    "                ax[i].imshow(img[1])\n",
    "                if(batch_i == 0):\n",
    "                    ax[i].set_title(img[0])\n",
    "                ax[i].axis('auto')\n",
    "\n",
    "\n",
    "        plt.tight_layout()\n",
    "        plt.show()\n",
    "        fig.canvas.draw()       # draw the canvas, cache the renderer\n",
    "        image = np.frombuffer(fig.canvas.tostring_rgb(), dtype='uint8')\n",
    "        image  = image.reshape(fig.canvas.get_width_height()[::-1] + (3,))\n",
    "        plots.append(image)\n",
    "        \n",
    "    print(\"=======VALIDATION=======\")\n",
    "    print(\"D loss: {} D acc: {} G loss {}\".format(d_loss[0],d_loss[1],g_loss[0]))\n",
    "    print(\"D acc Real: {} D acc Fake: {}\".format(d_loss_real[1],d_loss_fake[1]))\n",
    "    \n",
    "imageio.mimsave('./powers.gif', plots, fps=1)"
   ]
  },
  {
   "cell_type": "code",
   "execution_count": null,
   "metadata": {
    "scrolled": false
   },
   "outputs": [],
   "source": [
    "fig = plt.figure(figsize=(10,10))\n",
    "\n",
    "plt.plot(disc_losses_val,label=\"Discriminator Loss\",color=\"b\",linestyle=\"--\",marker='o')\n",
    "plt.title('Discriminator loss')\n",
    "plt.show()\n",
    "\n",
    "fig = plt.figure(figsize=(10,10))\n",
    "plt.plot(disc_accuracies_val_real,label=\"Real\",color=\"b\",linestyle=\"--\",marker='o')\n",
    "plt.plot(disc_accuracies_val_fake,label=\"Fake\",color=\"r\",linestyle=\"--\",marker='o')\n",
    "plt.legend()\n",
    "plt.title('Discriminator Acc')\n",
    "plt.show()\n",
    "\n",
    "\n",
    "fig = plt.figure(figsize=(10,10))\n",
    "plt.plot(generator_losses_val,label=\"Generator Loss\",color=\"r\",linestyle=\"--\",marker='o')\n",
    "plt.title('Generator')\n",
    "plt.show()"
   ]
  },
  {
   "cell_type": "code",
   "execution_count": 454,
   "metadata": {
    "scrolled": false
   },
   "outputs": [
    {
     "data": {
      "image/png": "[encoded data removed]",
      "text/plain": [
       "<Figure size 576x720 with 20 Axes>"
      ]
     },
     "metadata": {
      "needs_background": "light"
     },
     "output_type": "display_data"
    }
   ],
   "source": [
    "rows = 5\n",
    "fig, axs = plt.subplots(nrows=rows, ncols=4, figsize=(8, 2*rows))\n",
    "\n",
    "# build a rectangle in axes coords\n",
    "left, width = .25, .5\n",
    "bottom, height = .25, .5\n",
    "right = left + width\n",
    "top = bottom + height\n",
    "\n",
    "\n",
    "for ax, batch_i in zip(axs, range(rows)):\n",
    "    test_first_imgs, test_last_imgs,test_lables = next(test_batch_generator)\n",
    "    test_lables = mapLabels(test_lables)\n",
    "    if(conditional == False):\n",
    "        test_fake_last_imgs = modelObj.generator.predict(test_first_imgs) \n",
    "    else:\n",
    "        test_fake_last_imgs = modelObj.generator.predict([test_first_imgs,test_lables]) \n",
    "    #test_img_name = output_log_dir + \"/gen_img_test_\" + str(batch_i) + \".png\"\n",
    "    #merged_img = np.vstack((test_first_imgs[0],test_last_imgs[0],test_fake_last_imgs[0]))\n",
    "    #imageio.imwrite(test_img_name, img_as_ubyte(merged_img))\n",
    "    ax[0].text(0.5*(left+right), 0.5*(bottom+top), batch_i,\n",
    "    horizontalalignment='center',\n",
    "    verticalalignment='center',\n",
    "    fontsize=15)\n",
    "    ax[0].axis('off')\n",
    "    for i, img in zip(range(1,4), [[\"First Img\", test_first_imgs[0]], [\"Last Img\", test_last_imgs[0]], [\"Fake Last Img\", test_fake_last_imgs[0]]]):\n",
    "        ax[i].imshow(img[1])\n",
    "        if(batch_i == 0):\n",
    "            ax[i].set_title(img[0])\n",
    "        ax[i].axis('auto')\n",
    "\n",
    "\n",
    "plt.tight_layout()\n",
    "plt.show()"
   ]
  },
  {
   "cell_type": "code",
   "execution_count": 93,
   "metadata": {},
   "outputs": [],
   "source": [
    "# from scipy.interpolate import make_interp_spline, BSpline\n",
    "\n",
    "# fig, axs = plt.subplots(nrows=1, ncols=2, figsize=(12,6))\n",
    "\n",
    "# epochs = np.linspace(1, cfg.NUM_EPOCHS, cfg.NUM_EPOCHS)\n",
    "\n",
    "# for ax, data in zip(axs, [[\"Discriminator Mean Loss\", d_loss_data], [\"Generator Mean Loss\", g_loss_data]]):\n",
    "    \n",
    "#     # 300 represents number of points to make between T.min and T.max\n",
    "#     xnew = np.linspace(1, cfg.NUM_EPOCHS, 100) \n",
    "\n",
    "#     spl = make_interp_spline(epochs, data[1], k=3)  # type: BSpline\n",
    "#     data_smooth = spl(xnew)\n",
    "\n",
    "#     ax.plot(xnew, data_smooth)\n",
    "#     ax.legend(data)\n",
    "#     ax.set_xlabel('Epoch')\n",
    "#     ax.set_ylabel('Mean Loss')\n",
    "\n",
    "\n",
    "# plt.tight_layout()\n",
    "# plt.show()"
   ]
  },
  {
   "cell_type": "markdown",
   "metadata": {},
   "source": [
    "9) We can test the model with 100 test data which will be saved as images"
   ]
  },
  {
   "cell_type": "code",
   "execution_count": 453,
   "metadata": {},
   "outputs": [
    {
     "ename": "AssertionError",
     "evalue": "in user code:\n\n    /home/andreash/Documents/School/DeepLearning/ArtificialFlyingObjects/env/lib/python3.8/site-packages/tensorflow/python/keras/engine/training.py:1462 predict_function  *\n        return step_function(self, iterator)\n    /home/andreash/Documents/School/DeepLearning/ArtificialFlyingObjects/env/lib/python3.8/site-packages/tensorflow/python/keras/engine/training.py:1452 step_function  **\n        outputs = model.distribute_strategy.run(run_step, args=(data,))\n    /home/andreash/Documents/School/DeepLearning/ArtificialFlyingObjects/env/lib/python3.8/site-packages/tensorflow/python/distribute/distribute_lib.py:1211 run\n        return self._extended.call_for_each_replica(fn, args=args, kwargs=kwargs)\n    /home/andreash/Documents/School/DeepLearning/ArtificialFlyingObjects/env/lib/python3.8/site-packages/tensorflow/python/distribute/distribute_lib.py:2585 call_for_each_replica\n        return self._call_for_each_replica(fn, args, kwargs)\n    /home/andreash/Documents/School/DeepLearning/ArtificialFlyingObjects/env/lib/python3.8/site-packages/tensorflow/python/distribute/distribute_lib.py:2945 _call_for_each_replica\n        return fn(*args, **kwargs)\n    /home/andreash/Documents/School/DeepLearning/ArtificialFlyingObjects/env/lib/python3.8/site-packages/tensorflow/python/keras/engine/training.py:1445 run_step  **\n        outputs = model.predict_step(data)\n    /home/andreash/Documents/School/DeepLearning/ArtificialFlyingObjects/env/lib/python3.8/site-packages/tensorflow/python/keras/engine/training.py:1418 predict_step\n        return self(x, training=False)\n    /home/andreash/Documents/School/DeepLearning/ArtificialFlyingObjects/env/lib/python3.8/site-packages/tensorflow/python/keras/engine/base_layer.py:985 __call__\n        outputs = call_fn(inputs, *args, **kwargs)\n    /home/andreash/Documents/School/DeepLearning/ArtificialFlyingObjects/env/lib/python3.8/site-packages/tensorflow/python/keras/engine/functional.py:385 call\n        return self._run_internal_graph(\n    /home/andreash/Documents/School/DeepLearning/ArtificialFlyingObjects/env/lib/python3.8/site-packages/tensorflow/python/keras/engine/functional.py:517 _run_internal_graph\n        assert x_id in tensor_dict, 'Could not compute output ' + str(x)\n\n    AssertionError: Could not compute output Tensor(\"conv2d_626/Sigmoid:0\", shape=(None, 32, 32, 3), dtype=float32)\n",
     "output_type": "error",
     "traceback": [
      "\u001b[0;31m---------------------------------------------------------------------------\u001b[0m",
      "\u001b[0;31mAssertionError\u001b[0m                            Traceback (most recent call last)",
      "\u001b[0;32m<ipython-input-453-9ae1e8ac7b3d>\u001b[0m in \u001b[0;36m<module>\u001b[0;34m\u001b[0m\n\u001b[1;32m      7\u001b[0m     \u001b[0mtest_first_imgs\u001b[0m\u001b[0;34m,\u001b[0m \u001b[0mtest_last_imgs\u001b[0m\u001b[0;34m,\u001b[0m \u001b[0mtest_labels\u001b[0m \u001b[0;34m=\u001b[0m \u001b[0mnext\u001b[0m\u001b[0;34m(\u001b[0m\u001b[0mtest_batch_generator\u001b[0m\u001b[0;34m)\u001b[0m\u001b[0;34m\u001b[0m\u001b[0;34m\u001b[0m\u001b[0m\n\u001b[1;32m      8\u001b[0m     \u001b[0mtest_labels\u001b[0m \u001b[0;34m=\u001b[0m \u001b[0mmapLabels\u001b[0m\u001b[0;34m(\u001b[0m\u001b[0mtest_labels\u001b[0m\u001b[0;34m)\u001b[0m\u001b[0;34m\u001b[0m\u001b[0;34m\u001b[0m\u001b[0m\n\u001b[0;32m----> 9\u001b[0;31m     \u001b[0mtest_fake_last_imgs\u001b[0m \u001b[0;34m=\u001b[0m \u001b[0mmodelObj\u001b[0m\u001b[0;34m.\u001b[0m\u001b[0mgenerator\u001b[0m\u001b[0;34m.\u001b[0m\u001b[0mpredict\u001b[0m\u001b[0;34m(\u001b[0m\u001b[0mtest_first_imgs\u001b[0m\u001b[0;34m)\u001b[0m\u001b[0;34m\u001b[0m\u001b[0;34m\u001b[0m\u001b[0m\n\u001b[0m\u001b[1;32m     10\u001b[0m     \u001b[0md_loss_real\u001b[0m \u001b[0;34m=\u001b[0m \u001b[0mmodelObj\u001b[0m\u001b[0;34m.\u001b[0m\u001b[0mdiscriminator\u001b[0m\u001b[0;34m.\u001b[0m\u001b[0mtrain_on_batch\u001b[0m\u001b[0;34m(\u001b[0m\u001b[0;34m[\u001b[0m\u001b[0mtest_last_imgs\u001b[0m\u001b[0;34m,\u001b[0m \u001b[0mtest_first_imgs\u001b[0m\u001b[0;34m]\u001b[0m\u001b[0;34m,\u001b[0m \u001b[0mvalid\u001b[0m\u001b[0;34m)\u001b[0m\u001b[0;34m\u001b[0m\u001b[0;34m\u001b[0m\u001b[0m\n\u001b[1;32m     11\u001b[0m     \u001b[0md_loss_fake\u001b[0m \u001b[0;34m=\u001b[0m \u001b[0mmodelObj\u001b[0m\u001b[0;34m.\u001b[0m\u001b[0mdiscriminator\u001b[0m\u001b[0;34m.\u001b[0m\u001b[0mtrain_on_batch\u001b[0m\u001b[0;34m(\u001b[0m\u001b[0;34m[\u001b[0m\u001b[0mtest_fake_last_imgs\u001b[0m\u001b[0;34m,\u001b[0m \u001b[0mtest_first_imgs\u001b[0m\u001b[0;34m]\u001b[0m\u001b[0;34m,\u001b[0m \u001b[0mfake\u001b[0m\u001b[0;34m)\u001b[0m\u001b[0;34m\u001b[0m\u001b[0;34m\u001b[0m\u001b[0m\n",
      "\u001b[0;32m~/Documents/School/DeepLearning/ArtificialFlyingObjects/env/lib/python3.8/site-packages/tensorflow/python/keras/engine/training.py\u001b[0m in \u001b[0;36m_method_wrapper\u001b[0;34m(self, *args, **kwargs)\u001b[0m\n\u001b[1;32m    128\u001b[0m       raise ValueError('{} is not supported in multi-worker mode.'.format(\n\u001b[1;32m    129\u001b[0m           method.__name__))\n\u001b[0;32m--> 130\u001b[0;31m     \u001b[0;32mreturn\u001b[0m \u001b[0mmethod\u001b[0m\u001b[0;34m(\u001b[0m\u001b[0mself\u001b[0m\u001b[0;34m,\u001b[0m \u001b[0;34m*\u001b[0m\u001b[0margs\u001b[0m\u001b[0;34m,\u001b[0m \u001b[0;34m**\u001b[0m\u001b[0mkwargs\u001b[0m\u001b[0;34m)\u001b[0m\u001b[0;34m\u001b[0m\u001b[0;34m\u001b[0m\u001b[0m\n\u001b[0m\u001b[1;32m    131\u001b[0m \u001b[0;34m\u001b[0m\u001b[0m\n\u001b[1;32m    132\u001b[0m   return tf_decorator.make_decorator(\n",
      "\u001b[0;32m~/Documents/School/DeepLearning/ArtificialFlyingObjects/env/lib/python3.8/site-packages/tensorflow/python/keras/engine/training.py\u001b[0m in \u001b[0;36mpredict\u001b[0;34m(self, x, batch_size, verbose, steps, callbacks, max_queue_size, workers, use_multiprocessing)\u001b[0m\n\u001b[1;32m   1597\u001b[0m           \u001b[0;32mfor\u001b[0m \u001b[0mstep\u001b[0m \u001b[0;32min\u001b[0m \u001b[0mdata_handler\u001b[0m\u001b[0;34m.\u001b[0m\u001b[0msteps\u001b[0m\u001b[0;34m(\u001b[0m\u001b[0;34m)\u001b[0m\u001b[0;34m:\u001b[0m\u001b[0;34m\u001b[0m\u001b[0;34m\u001b[0m\u001b[0m\n\u001b[1;32m   1598\u001b[0m             \u001b[0mcallbacks\u001b[0m\u001b[0;34m.\u001b[0m\u001b[0mon_predict_batch_begin\u001b[0m\u001b[0;34m(\u001b[0m\u001b[0mstep\u001b[0m\u001b[0;34m)\u001b[0m\u001b[0;34m\u001b[0m\u001b[0;34m\u001b[0m\u001b[0m\n\u001b[0;32m-> 1599\u001b[0;31m             \u001b[0mtmp_batch_outputs\u001b[0m \u001b[0;34m=\u001b[0m \u001b[0mpredict_function\u001b[0m\u001b[0;34m(\u001b[0m\u001b[0miterator\u001b[0m\u001b[0;34m)\u001b[0m\u001b[0;34m\u001b[0m\u001b[0;34m\u001b[0m\u001b[0m\n\u001b[0m\u001b[1;32m   1600\u001b[0m             \u001b[0;32mif\u001b[0m \u001b[0mdata_handler\u001b[0m\u001b[0;34m.\u001b[0m\u001b[0mshould_sync\u001b[0m\u001b[0;34m:\u001b[0m\u001b[0;34m\u001b[0m\u001b[0;34m\u001b[0m\u001b[0m\n\u001b[1;32m   1601\u001b[0m               \u001b[0mcontext\u001b[0m\u001b[0;34m.\u001b[0m\u001b[0masync_wait\u001b[0m\u001b[0;34m(\u001b[0m\u001b[0;34m)\u001b[0m\u001b[0;34m\u001b[0m\u001b[0;34m\u001b[0m\u001b[0m\n",
      "\u001b[0;32m~/Documents/School/DeepLearning/ArtificialFlyingObjects/env/lib/python3.8/site-packages/tensorflow/python/eager/def_function.py\u001b[0m in \u001b[0;36m__call__\u001b[0;34m(self, *args, **kwds)\u001b[0m\n\u001b[1;32m    778\u001b[0m       \u001b[0;32melse\u001b[0m\u001b[0;34m:\u001b[0m\u001b[0;34m\u001b[0m\u001b[0;34m\u001b[0m\u001b[0m\n\u001b[1;32m    779\u001b[0m         \u001b[0mcompiler\u001b[0m \u001b[0;34m=\u001b[0m \u001b[0;34m\"nonXla\"\u001b[0m\u001b[0;34m\u001b[0m\u001b[0;34m\u001b[0m\u001b[0m\n\u001b[0;32m--> 780\u001b[0;31m         \u001b[0mresult\u001b[0m \u001b[0;34m=\u001b[0m \u001b[0mself\u001b[0m\u001b[0;34m.\u001b[0m\u001b[0m_call\u001b[0m\u001b[0;34m(\u001b[0m\u001b[0;34m*\u001b[0m\u001b[0margs\u001b[0m\u001b[0;34m,\u001b[0m \u001b[0;34m**\u001b[0m\u001b[0mkwds\u001b[0m\u001b[0;34m)\u001b[0m\u001b[0;34m\u001b[0m\u001b[0;34m\u001b[0m\u001b[0m\n\u001b[0m\u001b[1;32m    781\u001b[0m \u001b[0;34m\u001b[0m\u001b[0m\n\u001b[1;32m    782\u001b[0m       \u001b[0mnew_tracing_count\u001b[0m \u001b[0;34m=\u001b[0m \u001b[0mself\u001b[0m\u001b[0;34m.\u001b[0m\u001b[0m_get_tracing_count\u001b[0m\u001b[0;34m(\u001b[0m\u001b[0;34m)\u001b[0m\u001b[0;34m\u001b[0m\u001b[0;34m\u001b[0m\u001b[0m\n",
      "\u001b[0;32m~/Documents/School/DeepLearning/ArtificialFlyingObjects/env/lib/python3.8/site-packages/tensorflow/python/eager/def_function.py\u001b[0m in \u001b[0;36m_call\u001b[0;34m(self, *args, **kwds)\u001b[0m\n\u001b[1;32m    812\u001b[0m       \u001b[0;31m# In this case we have not created variables on the first call. So we can\u001b[0m\u001b[0;34m\u001b[0m\u001b[0;34m\u001b[0m\u001b[0;34m\u001b[0m\u001b[0m\n\u001b[1;32m    813\u001b[0m       \u001b[0;31m# run the first trace but we should fail if variables are created.\u001b[0m\u001b[0;34m\u001b[0m\u001b[0;34m\u001b[0m\u001b[0;34m\u001b[0m\u001b[0m\n\u001b[0;32m--> 814\u001b[0;31m       \u001b[0mresults\u001b[0m \u001b[0;34m=\u001b[0m \u001b[0mself\u001b[0m\u001b[0;34m.\u001b[0m\u001b[0m_stateful_fn\u001b[0m\u001b[0;34m(\u001b[0m\u001b[0;34m*\u001b[0m\u001b[0margs\u001b[0m\u001b[0;34m,\u001b[0m \u001b[0;34m**\u001b[0m\u001b[0mkwds\u001b[0m\u001b[0;34m)\u001b[0m\u001b[0;34m\u001b[0m\u001b[0;34m\u001b[0m\u001b[0m\n\u001b[0m\u001b[1;32m    815\u001b[0m       \u001b[0;32mif\u001b[0m \u001b[0mself\u001b[0m\u001b[0;34m.\u001b[0m\u001b[0m_created_variables\u001b[0m\u001b[0;34m:\u001b[0m\u001b[0;34m\u001b[0m\u001b[0;34m\u001b[0m\u001b[0m\n\u001b[1;32m    816\u001b[0m         raise ValueError(\"Creating variables on a non-first call to a function\"\n",
      "\u001b[0;32m~/Documents/School/DeepLearning/ArtificialFlyingObjects/env/lib/python3.8/site-packages/tensorflow/python/eager/function.py\u001b[0m in \u001b[0;36m__call__\u001b[0;34m(self, *args, **kwargs)\u001b[0m\n\u001b[1;32m   2826\u001b[0m     \u001b[0;34m\"\"\"Calls a graph function specialized to the inputs.\"\"\"\u001b[0m\u001b[0;34m\u001b[0m\u001b[0;34m\u001b[0m\u001b[0m\n\u001b[1;32m   2827\u001b[0m     \u001b[0;32mwith\u001b[0m \u001b[0mself\u001b[0m\u001b[0;34m.\u001b[0m\u001b[0m_lock\u001b[0m\u001b[0;34m:\u001b[0m\u001b[0;34m\u001b[0m\u001b[0;34m\u001b[0m\u001b[0m\n\u001b[0;32m-> 2828\u001b[0;31m       \u001b[0mgraph_function\u001b[0m\u001b[0;34m,\u001b[0m \u001b[0margs\u001b[0m\u001b[0;34m,\u001b[0m \u001b[0mkwargs\u001b[0m \u001b[0;34m=\u001b[0m \u001b[0mself\u001b[0m\u001b[0;34m.\u001b[0m\u001b[0m_maybe_define_function\u001b[0m\u001b[0;34m(\u001b[0m\u001b[0margs\u001b[0m\u001b[0;34m,\u001b[0m \u001b[0mkwargs\u001b[0m\u001b[0;34m)\u001b[0m\u001b[0;34m\u001b[0m\u001b[0;34m\u001b[0m\u001b[0m\n\u001b[0m\u001b[1;32m   2829\u001b[0m     \u001b[0;32mreturn\u001b[0m \u001b[0mgraph_function\u001b[0m\u001b[0;34m.\u001b[0m\u001b[0m_filtered_call\u001b[0m\u001b[0;34m(\u001b[0m\u001b[0margs\u001b[0m\u001b[0;34m,\u001b[0m \u001b[0mkwargs\u001b[0m\u001b[0;34m)\u001b[0m  \u001b[0;31m# pylint: disable=protected-access\u001b[0m\u001b[0;34m\u001b[0m\u001b[0;34m\u001b[0m\u001b[0m\n\u001b[1;32m   2830\u001b[0m \u001b[0;34m\u001b[0m\u001b[0m\n",
      "\u001b[0;32m~/Documents/School/DeepLearning/ArtificialFlyingObjects/env/lib/python3.8/site-packages/tensorflow/python/eager/function.py\u001b[0m in \u001b[0;36m_maybe_define_function\u001b[0;34m(self, args, kwargs)\u001b[0m\n\u001b[1;32m   3208\u001b[0m           \u001b[0;32mand\u001b[0m \u001b[0mself\u001b[0m\u001b[0;34m.\u001b[0m\u001b[0minput_signature\u001b[0m \u001b[0;32mis\u001b[0m \u001b[0;32mNone\u001b[0m\u001b[0;34m\u001b[0m\u001b[0;34m\u001b[0m\u001b[0m\n\u001b[1;32m   3209\u001b[0m           and call_context_key in self._function_cache.missed):\n\u001b[0;32m-> 3210\u001b[0;31m         \u001b[0;32mreturn\u001b[0m \u001b[0mself\u001b[0m\u001b[0;34m.\u001b[0m\u001b[0m_define_function_with_shape_relaxation\u001b[0m\u001b[0;34m(\u001b[0m\u001b[0margs\u001b[0m\u001b[0;34m,\u001b[0m \u001b[0mkwargs\u001b[0m\u001b[0;34m)\u001b[0m\u001b[0;34m\u001b[0m\u001b[0;34m\u001b[0m\u001b[0m\n\u001b[0m\u001b[1;32m   3211\u001b[0m \u001b[0;34m\u001b[0m\u001b[0m\n\u001b[1;32m   3212\u001b[0m       \u001b[0mself\u001b[0m\u001b[0;34m.\u001b[0m\u001b[0m_function_cache\u001b[0m\u001b[0;34m.\u001b[0m\u001b[0mmissed\u001b[0m\u001b[0;34m.\u001b[0m\u001b[0madd\u001b[0m\u001b[0;34m(\u001b[0m\u001b[0mcall_context_key\u001b[0m\u001b[0;34m)\u001b[0m\u001b[0;34m\u001b[0m\u001b[0;34m\u001b[0m\u001b[0m\n",
      "\u001b[0;32m~/Documents/School/DeepLearning/ArtificialFlyingObjects/env/lib/python3.8/site-packages/tensorflow/python/eager/function.py\u001b[0m in \u001b[0;36m_define_function_with_shape_relaxation\u001b[0;34m(self, args, kwargs)\u001b[0m\n\u001b[1;32m   3139\u001b[0m           expand_composites=True)\n\u001b[1;32m   3140\u001b[0m \u001b[0;34m\u001b[0m\u001b[0m\n\u001b[0;32m-> 3141\u001b[0;31m     graph_function = self._create_graph_function(\n\u001b[0m\u001b[1;32m   3142\u001b[0m         args, kwargs, override_flat_arg_shapes=relaxed_arg_shapes)\n\u001b[1;32m   3143\u001b[0m     \u001b[0mself\u001b[0m\u001b[0;34m.\u001b[0m\u001b[0m_function_cache\u001b[0m\u001b[0;34m.\u001b[0m\u001b[0marg_relaxed\u001b[0m\u001b[0;34m[\u001b[0m\u001b[0mrank_only_cache_key\u001b[0m\u001b[0;34m]\u001b[0m \u001b[0;34m=\u001b[0m \u001b[0mgraph_function\u001b[0m\u001b[0;34m\u001b[0m\u001b[0;34m\u001b[0m\u001b[0m\n",
      "\u001b[0;32m~/Documents/School/DeepLearning/ArtificialFlyingObjects/env/lib/python3.8/site-packages/tensorflow/python/eager/function.py\u001b[0m in \u001b[0;36m_create_graph_function\u001b[0;34m(self, args, kwargs, override_flat_arg_shapes)\u001b[0m\n\u001b[1;32m   3063\u001b[0m     \u001b[0marg_names\u001b[0m \u001b[0;34m=\u001b[0m \u001b[0mbase_arg_names\u001b[0m \u001b[0;34m+\u001b[0m \u001b[0mmissing_arg_names\u001b[0m\u001b[0;34m\u001b[0m\u001b[0;34m\u001b[0m\u001b[0m\n\u001b[1;32m   3064\u001b[0m     graph_function = ConcreteFunction(\n\u001b[0;32m-> 3065\u001b[0;31m         func_graph_module.func_graph_from_py_func(\n\u001b[0m\u001b[1;32m   3066\u001b[0m             \u001b[0mself\u001b[0m\u001b[0;34m.\u001b[0m\u001b[0m_name\u001b[0m\u001b[0;34m,\u001b[0m\u001b[0;34m\u001b[0m\u001b[0;34m\u001b[0m\u001b[0m\n\u001b[1;32m   3067\u001b[0m             \u001b[0mself\u001b[0m\u001b[0;34m.\u001b[0m\u001b[0m_python_function\u001b[0m\u001b[0;34m,\u001b[0m\u001b[0;34m\u001b[0m\u001b[0;34m\u001b[0m\u001b[0m\n",
      "\u001b[0;32m~/Documents/School/DeepLearning/ArtificialFlyingObjects/env/lib/python3.8/site-packages/tensorflow/python/framework/func_graph.py\u001b[0m in \u001b[0;36mfunc_graph_from_py_func\u001b[0;34m(name, python_func, args, kwargs, signature, func_graph, autograph, autograph_options, add_control_dependencies, arg_names, op_return_value, collections, capture_by_value, override_flat_arg_shapes)\u001b[0m\n\u001b[1;32m    984\u001b[0m         \u001b[0m_\u001b[0m\u001b[0;34m,\u001b[0m \u001b[0moriginal_func\u001b[0m \u001b[0;34m=\u001b[0m \u001b[0mtf_decorator\u001b[0m\u001b[0;34m.\u001b[0m\u001b[0munwrap\u001b[0m\u001b[0;34m(\u001b[0m\u001b[0mpython_func\u001b[0m\u001b[0;34m)\u001b[0m\u001b[0;34m\u001b[0m\u001b[0;34m\u001b[0m\u001b[0m\n\u001b[1;32m    985\u001b[0m \u001b[0;34m\u001b[0m\u001b[0m\n\u001b[0;32m--> 986\u001b[0;31m       \u001b[0mfunc_outputs\u001b[0m \u001b[0;34m=\u001b[0m \u001b[0mpython_func\u001b[0m\u001b[0;34m(\u001b[0m\u001b[0;34m*\u001b[0m\u001b[0mfunc_args\u001b[0m\u001b[0;34m,\u001b[0m \u001b[0;34m**\u001b[0m\u001b[0mfunc_kwargs\u001b[0m\u001b[0;34m)\u001b[0m\u001b[0;34m\u001b[0m\u001b[0;34m\u001b[0m\u001b[0m\n\u001b[0m\u001b[1;32m    987\u001b[0m \u001b[0;34m\u001b[0m\u001b[0m\n\u001b[1;32m    988\u001b[0m       \u001b[0;31m# invariant: `func_outputs` contains only Tensors, CompositeTensors,\u001b[0m\u001b[0;34m\u001b[0m\u001b[0;34m\u001b[0m\u001b[0;34m\u001b[0m\u001b[0m\n",
      "\u001b[0;32m~/Documents/School/DeepLearning/ArtificialFlyingObjects/env/lib/python3.8/site-packages/tensorflow/python/eager/def_function.py\u001b[0m in \u001b[0;36mwrapped_fn\u001b[0;34m(*args, **kwds)\u001b[0m\n\u001b[1;32m    598\u001b[0m         \u001b[0;31m# __wrapped__ allows AutoGraph to swap in a converted function. We give\u001b[0m\u001b[0;34m\u001b[0m\u001b[0;34m\u001b[0m\u001b[0;34m\u001b[0m\u001b[0m\n\u001b[1;32m    599\u001b[0m         \u001b[0;31m# the function a weak reference to itself to avoid a reference cycle.\u001b[0m\u001b[0;34m\u001b[0m\u001b[0;34m\u001b[0m\u001b[0;34m\u001b[0m\u001b[0m\n\u001b[0;32m--> 600\u001b[0;31m         \u001b[0;32mreturn\u001b[0m \u001b[0mweak_wrapped_fn\u001b[0m\u001b[0;34m(\u001b[0m\u001b[0;34m)\u001b[0m\u001b[0;34m.\u001b[0m\u001b[0m__wrapped__\u001b[0m\u001b[0;34m(\u001b[0m\u001b[0;34m*\u001b[0m\u001b[0margs\u001b[0m\u001b[0;34m,\u001b[0m \u001b[0;34m**\u001b[0m\u001b[0mkwds\u001b[0m\u001b[0;34m)\u001b[0m\u001b[0;34m\u001b[0m\u001b[0;34m\u001b[0m\u001b[0m\n\u001b[0m\u001b[1;32m    601\u001b[0m     \u001b[0mweak_wrapped_fn\u001b[0m \u001b[0;34m=\u001b[0m \u001b[0mweakref\u001b[0m\u001b[0;34m.\u001b[0m\u001b[0mref\u001b[0m\u001b[0;34m(\u001b[0m\u001b[0mwrapped_fn\u001b[0m\u001b[0;34m)\u001b[0m\u001b[0;34m\u001b[0m\u001b[0;34m\u001b[0m\u001b[0m\n\u001b[1;32m    602\u001b[0m \u001b[0;34m\u001b[0m\u001b[0m\n",
      "\u001b[0;32m~/Documents/School/DeepLearning/ArtificialFlyingObjects/env/lib/python3.8/site-packages/tensorflow/python/framework/func_graph.py\u001b[0m in \u001b[0;36mwrapper\u001b[0;34m(*args, **kwargs)\u001b[0m\n\u001b[1;32m    971\u001b[0m           \u001b[0;32mexcept\u001b[0m \u001b[0mException\u001b[0m \u001b[0;32mas\u001b[0m \u001b[0me\u001b[0m\u001b[0;34m:\u001b[0m  \u001b[0;31m# pylint:disable=broad-except\u001b[0m\u001b[0;34m\u001b[0m\u001b[0;34m\u001b[0m\u001b[0m\n\u001b[1;32m    972\u001b[0m             \u001b[0;32mif\u001b[0m \u001b[0mhasattr\u001b[0m\u001b[0;34m(\u001b[0m\u001b[0me\u001b[0m\u001b[0;34m,\u001b[0m \u001b[0;34m\"ag_error_metadata\"\u001b[0m\u001b[0;34m)\u001b[0m\u001b[0;34m:\u001b[0m\u001b[0;34m\u001b[0m\u001b[0;34m\u001b[0m\u001b[0m\n\u001b[0;32m--> 973\u001b[0;31m               \u001b[0;32mraise\u001b[0m \u001b[0me\u001b[0m\u001b[0;34m.\u001b[0m\u001b[0mag_error_metadata\u001b[0m\u001b[0;34m.\u001b[0m\u001b[0mto_exception\u001b[0m\u001b[0;34m(\u001b[0m\u001b[0me\u001b[0m\u001b[0;34m)\u001b[0m\u001b[0;34m\u001b[0m\u001b[0;34m\u001b[0m\u001b[0m\n\u001b[0m\u001b[1;32m    974\u001b[0m             \u001b[0;32melse\u001b[0m\u001b[0;34m:\u001b[0m\u001b[0;34m\u001b[0m\u001b[0;34m\u001b[0m\u001b[0m\n\u001b[1;32m    975\u001b[0m               \u001b[0;32mraise\u001b[0m\u001b[0;34m\u001b[0m\u001b[0;34m\u001b[0m\u001b[0m\n",
      "\u001b[0;31mAssertionError\u001b[0m: in user code:\n\n    /home/andreash/Documents/School/DeepLearning/ArtificialFlyingObjects/env/lib/python3.8/site-packages/tensorflow/python/keras/engine/training.py:1462 predict_function  *\n        return step_function(self, iterator)\n    /home/andreash/Documents/School/DeepLearning/ArtificialFlyingObjects/env/lib/python3.8/site-packages/tensorflow/python/keras/engine/training.py:1452 step_function  **\n        outputs = model.distribute_strategy.run(run_step, args=(data,))\n    /home/andreash/Documents/School/DeepLearning/ArtificialFlyingObjects/env/lib/python3.8/site-packages/tensorflow/python/distribute/distribute_lib.py:1211 run\n        return self._extended.call_for_each_replica(fn, args=args, kwargs=kwargs)\n    /home/andreash/Documents/School/DeepLearning/ArtificialFlyingObjects/env/lib/python3.8/site-packages/tensorflow/python/distribute/distribute_lib.py:2585 call_for_each_replica\n        return self._call_for_each_replica(fn, args, kwargs)\n    /home/andreash/Documents/School/DeepLearning/ArtificialFlyingObjects/env/lib/python3.8/site-packages/tensorflow/python/distribute/distribute_lib.py:2945 _call_for_each_replica\n        return fn(*args, **kwargs)\n    /home/andreash/Documents/School/DeepLearning/ArtificialFlyingObjects/env/lib/python3.8/site-packages/tensorflow/python/keras/engine/training.py:1445 run_step  **\n        outputs = model.predict_step(data)\n    /home/andreash/Documents/School/DeepLearning/ArtificialFlyingObjects/env/lib/python3.8/site-packages/tensorflow/python/keras/engine/training.py:1418 predict_step\n        return self(x, training=False)\n    /home/andreash/Documents/School/DeepLearning/ArtificialFlyingObjects/env/lib/python3.8/site-packages/tensorflow/python/keras/engine/base_layer.py:985 __call__\n        outputs = call_fn(inputs, *args, **kwargs)\n    /home/andreash/Documents/School/DeepLearning/ArtificialFlyingObjects/env/lib/python3.8/site-packages/tensorflow/python/keras/engine/functional.py:385 call\n        return self._run_internal_graph(\n    /home/andreash/Documents/School/DeepLearning/ArtificialFlyingObjects/env/lib/python3.8/site-packages/tensorflow/python/keras/engine/functional.py:517 _run_internal_graph\n        assert x_id in tensor_dict, 'Could not compute output ' + str(x)\n\n    AssertionError: Could not compute output Tensor(\"conv2d_626/Sigmoid:0\", shape=(None, 32, 32, 3), dtype=float32)\n"
     ]
    }
   ],
   "source": [
    "discriminator_losses = []\n",
    "discriminator_accuracies = []\n",
    "disc_real_acc = []\n",
    "disc_fake_acc = []\n",
    "generator_losses = []\n",
    "for batch_i in range(100):\n",
    "    test_first_imgs, test_last_imgs, test_labels = next(test_batch_generator)\n",
    "    test_labels = mapLabels(test_labels)\n",
    "    test_fake_last_imgs = modelObj.generator.predict(test_first_imgs)     \n",
    "    d_loss_real = modelObj.discriminator.train_on_batch([test_last_imgs, test_first_imgs], valid)\n",
    "    d_loss_fake = modelObj.discriminator.train_on_batch([test_fake_last_imgs, test_first_imgs], fake)\n",
    "    d_loss = 0.5 * np.add(d_loss_real, d_loss_fake)\n",
    " \n",
    "    # Train the generator\n",
    "    g_loss = modelObj.combined.train_on_batch([test_last_imgs, test_first_imgs], [valid, test_last_imgs])\n",
    "    \n",
    "    discriminator_losses.append(d_loss[0])\n",
    "    discriminator_accuracies.append(d_loss[1])\n",
    "    generator_losses.append(g_loss[0])\n",
    "    \n",
    "    disc_real_acc.append(d_loss_real[1])\n",
    "    disc_fake_acc.append(d_loss_fake[1])\n",
    "    #print(d_loss)\n",
    "    \n",
    "    \n",
    "    \n",
    "    #test_img_name = output_log_dir + \"/gen_img_test_\" + str(batch_i) + \".png\"\n",
    "    #merged_img = np.vstack((test_first_imgs[0],test_last_imgs[0],test_fake_last_imgs[0]))\n",
    "    #imageio.imwrite(test_img_name, img_as_ubyte(merged_img))\n",
    "\n",
    "disc_real_accuracy = round(np.array(disc_real_acc).mean(),4)\n",
    "disc_fake_accuracy = round(np.array(disc_fake_acc).mean(),4)\n",
    "\n",
    "print(\"Real Images:{}\".format(disc_real_accuracy))\n",
    "print(\"Fake Images: {}\".format(disc_fake_accuracy))\n",
    "disc_loss = round(np.array(discriminator_losses).mean(),4)\n",
    "disc_acc = round(np.array(discriminator_accuracies).mean(),4)\n",
    "gen_loss = round(np.array(generator_losses).mean(),4)\n",
    "\n",
    "print(\"Discriminator loss: {} ----- Discriminator acc: {} ----- Generator loss: {}\".format(disc_loss,disc_acc,gen_loss))"
   ]
  },
  {
   "cell_type": "code",
   "execution_count": 342,
   "metadata": {},
   "outputs": [
    {
     "name": "stdout",
     "output_type": "stream",
     "text": [
      "Real Images:0.3492\n",
      "Fake Images: 0.9043\n",
      "Discriminator loss: 0.2065 ----- Discriminator acc: 0.6268 ----- Generator loss: 2.3239\n"
     ]
    }
   ],
   "source": [
    "discriminator_losses = []\n",
    "disc_real_acc = []\n",
    "disc_fake_acc = []\n",
    "discriminator_accuracies = []\n",
    "generator_losses = []\n",
    "for batch_i in range(100):\n",
    "    test_first_imgs, test_last_imgs, test_labels = next(test_batch_generator)\n",
    "    test_labels = mapLabels(test_labels)\n",
    "    test_fake_last_imgs = modelObj.generator.predict([test_first_imgs,test_labels])     \n",
    "    d_loss_real = modelObj.discriminator.train_on_batch([test_last_imgs, test_first_imgs,test_labels], valid)\n",
    "    d_loss_fake = modelObj.discriminator.train_on_batch([test_fake_last_imgs, test_first_imgs,test_labels], fake)\n",
    "    \n",
    "    d_loss = 0.5 * np.add(d_loss_real, d_loss_fake)\n",
    " \n",
    "    # Train the generator\n",
    "    g_loss = modelObj.combined.train_on_batch([test_last_imgs, test_first_imgs,test_labels], [valid, test_last_imgs])\n",
    "    \n",
    "    discriminator_losses.append(d_loss[0])\n",
    "    discriminator_accuracies.append(d_loss[1])\n",
    "    generator_losses.append(g_loss[0])\n",
    "    \n",
    "    disc_real_acc.append(d_loss_real[1])\n",
    "    disc_fake_acc.append(d_loss_fake[1])\n",
    "    #print(d_loss)\n",
    "    \n",
    "    \n",
    "    \n",
    "    #test_img_name = output_log_dir + \"/gen_img_test_\" + str(batch_i) + \".png\"\n",
    "    #merged_img = np.vstack((test_first_imgs[0],test_last_imgs[0],test_fake_last_imgs[0]))\n",
    "    #imageio.imwrite(test_img_name, img_as_ubyte(merged_img))\n",
    "\n",
    "disc_real_accuracy = round(np.array(disc_real_acc).mean(),4)\n",
    "disc_fake_accuracy = round(np.array(disc_fake_acc).mean(),4)\n",
    "\n",
    "print(\"Real Images:{}\".format(disc_real_accuracy))\n",
    "print(\"Fake Images: {}\".format(disc_fake_accuracy))\n",
    "disc_loss = round(np.array(discriminator_losses).mean(),4)\n",
    "disc_acc = round(np.array(discriminator_accuracies).mean(),4)\n",
    "gen_loss = round(np.array(generator_losses).mean(),4)\n",
    "\n",
    "print(\"Discriminator loss: {} ----- Discriminator acc: {} ----- Generator loss: {}\".format(disc_loss,disc_acc,gen_loss))"
   ]
  },
  {
   "cell_type": "markdown",
   "metadata": {},
   "source": [
    "## EXERCISES"
   ]
  },
  {
   "cell_type": "markdown",
   "metadata": {},
   "source": [
    "#### Exercise 1)\n",
    "Update the network architecture given in  **build_generator**  and  **build_discriminator**  of the class GANModel. Please note that the current image resolution is set to 32x32 (i.e. IMAGE_WIDTH and IMAGE_HEIGHT values) in the file configGAN.py. \n",
    "This way initial experiements can run faster. Once you implement the inital version of the network, please set the resolution values back to 128x128. Experimental results should be provided for this high resolution images.  \n",
    "\n",
    "**Hint:** As a generator model, you can use the segmentation model implemented in lab03. Do not forget to adapt the input and output shapes of the generator model in this case."
   ]
  },
  {
   "cell_type": "markdown",
   "metadata": {},
   "source": [
    "#### Exercise 2) \n",
    "Use different **optimization** (e.g. ADAM, SGD, etc) and **regularization** (e.g. data augmentation, dropout) methods to increase the network accuracy. "
   ]
  }
 ],
 "metadata": {
  "kernelspec": {
   "display_name": "Python 3",
   "language": "python",
   "name": "python3"
  },
  "language_info": {
   "codemirror_mode": {
    "name": "ipython",
    "version": 3
   },
   "file_extension": ".py",
   "mimetype": "text/x-python",
   "name": "python",
   "nbconvert_exporter": "python",
   "pygments_lexer": "ipython3",
   "version": "3.8.6"
  }
 },
 "nbformat": 4,
 "nbformat_minor": 4
}
